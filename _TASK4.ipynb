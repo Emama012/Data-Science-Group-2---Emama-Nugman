{
 "cells": [
  {
   "cell_type": "markdown",
   "id": "18db3b23-3acc-4010-b035-c51b78cc3d76",
   "metadata": {},
   "source": [
    "# Python"
   ]
  },
  {
   "cell_type": "markdown",
   "id": "2367a1c6-e9ce-4d48-9364-3fbcfa9ce053",
   "metadata": {},
   "source": [
    "Python is a popular programming language.\n",
    "It is used for: \n",
    "\r\n",
    "\r\n",
    "web development (server-sie),\r\n",
    "software develop ent,\r\n",
    "mathemtics,\r\n",
    "system scripting"
   ]
  },
  {
   "cell_type": "markdown",
   "id": "3f233ea1-905c-4423-9f06-4e908d1e8ae6",
   "metadata": {},
   "source": [
    "## Python Syntax"
   ]
  },
  {
   "cell_type": "code",
   "execution_count": 5,
   "id": "752d353a-a457-4374-9d86-24c9b9f12ff3",
   "metadata": {},
   "outputs": [
    {
     "name": "stdout",
     "output_type": "stream",
     "text": [
      "This is the basic python syntax\n"
     ]
    }
   ],
   "source": [
    "print(\"This is the basic python syntax\")"
   ]
  },
  {
   "cell_type": "markdown",
   "id": "84cddb4b-59c5-4d5f-9d1a-27a72ffc9f2b",
   "metadata": {},
   "source": [
    "### Comments\n",
    "You can easily commmet out a code in python by using # sign"
   ]
  },
  {
   "cell_type": "code",
   "execution_count": 7,
   "id": "b1c76fd0-073d-4b9b-98a0-fc876500a795",
   "metadata": {},
   "outputs": [],
   "source": [
    "#Hi im emama, and this is a comment "
   ]
  },
  {
   "cell_type": "code",
   "execution_count": 8,
   "id": "bb7dd3c1-9217-4719-86f4-4fdae7d7a794",
   "metadata": {},
   "outputs": [
    {
     "name": "stdout",
     "output_type": "stream",
     "text": [
      "Hey this is not a comment\n"
     ]
    }
   ],
   "source": [
    "print(\"Hey this is not a comment\")"
   ]
  },
  {
   "cell_type": "markdown",
   "id": "e1593f0e-e9e3-4186-ab5a-8328ab86e91f",
   "metadata": {},
   "source": [
    "### Indendation\n",
    "indendatitions are very important in python. here are few correct and incorrect examples of them"
   ]
  },
  {
   "cell_type": "code",
   "execution_count": 11,
   "id": "d106498d-badf-460e-8ee0-2665122e4b6f",
   "metadata": {},
   "outputs": [
    {
     "name": "stdout",
     "output_type": "stream",
     "text": [
      "I'm Emama BWT FEllow\n"
     ]
    }
   ],
   "source": [
    "if 0<1:\n",
    " print(\"I'm Emama BWT FEllow\")\n",
    "#This is correct code"
   ]
  },
  {
   "cell_type": "code",
   "execution_count": 12,
   "id": "a8bb01f0-bc6b-487e-b5e2-1f1bd107b115",
   "metadata": {},
   "outputs": [
    {
     "ename": "IndentationError",
     "evalue": "expected an indented block after 'if' statement on line 1 (3520422656.py, line 2)",
     "output_type": "error",
     "traceback": [
      "\u001b[1;36m  Cell \u001b[1;32mIn[12], line 2\u001b[1;36m\u001b[0m\n\u001b[1;33m    print(\"I'm Emama BWT FEllow\")\u001b[0m\n\u001b[1;37m    ^\u001b[0m\n\u001b[1;31mIndentationError\u001b[0m\u001b[1;31m:\u001b[0m expected an indented block after 'if' statement on line 1\n"
     ]
    }
   ],
   "source": [
    "if 0<1:\n",
    "print(\"I'm Emama BWT FEllow\")\n",
    "#This is incorrect code due to 0 spacing"
   ]
  },
  {
   "cell_type": "code",
   "execution_count": 14,
   "id": "6598005b-d008-4388-b7b3-190fa17aab34",
   "metadata": {},
   "outputs": [
    {
     "ename": "IndentationError",
     "evalue": "unexpected indent (1344663154.py, line 3)",
     "output_type": "error",
     "traceback": [
      "\u001b[1;36m  Cell \u001b[1;32mIn[14], line 3\u001b[1;36m\u001b[0m\n\u001b[1;33m    print(\"I'm Emama BWT FEllow\")\u001b[0m\n\u001b[1;37m    ^\u001b[0m\n\u001b[1;31mIndentationError\u001b[0m\u001b[1;31m:\u001b[0m unexpected indent\n"
     ]
    }
   ],
   "source": [
    "if 0<1:\n",
    " print(\"I'm Emama BWT FEllow\")\n",
    "     print(\"I'm Emama BWT FEllow\")\n",
    "#This is incorrect code because two lines have different inendations."
   ]
  },
  {
   "cell_type": "markdown",
   "id": "c5f12fc3-3357-4125-a179-79578c006c34",
   "metadata": {},
   "source": [
    "### Variables \n",
    "A python variable is simply created by assigning values to them "
   ]
  },
  {
   "cell_type": "code",
   "execution_count": 15,
   "id": "1ecebada-6d76-4ea2-a01c-0d18a4ce7e38",
   "metadata": {},
   "outputs": [
    {
     "name": "stdout",
     "output_type": "stream",
     "text": [
      "5\n",
      "EMAMA\n"
     ]
    }
   ],
   "source": [
    "a = 5\n",
    "b = \"EMAMA\" #can also use single quotes for string\n",
    "print(a)\n",
    "print(b)"
   ]
  },
  {
   "cell_type": "markdown",
   "id": "55f8a041-37e0-4a4b-ab50-41059676dec8",
   "metadata": {},
   "source": [
    "#### Casting/Type Check\n",
    "Casting can be also done by assigning data types to the variable "
   ]
  },
  {
   "cell_type": "code",
   "execution_count": 20,
   "id": "49797c37-10e1-4ba2-a057-ee1002e70380",
   "metadata": {},
   "outputs": [
    {
     "name": "stdout",
     "output_type": "stream",
     "text": [
      "0 0 0.0\n",
      "<class 'str'>\n",
      "<class 'int'>\n",
      "<class 'float'>\n"
     ]
    }
   ],
   "source": [
    "a= str(0)\n",
    "b=int(0)\n",
    "c=float(0)\n",
    "print(a,b,c)\n",
    "\n",
    "#can check the type of variables by using type\n",
    "print(type(a))\n",
    "print(type(b))\n",
    "print(type(c))"
   ]
  },
  {
   "cell_type": "markdown",
   "id": "fa4c3765-b313-4772-9abe-9227ac26d2d0",
   "metadata": {},
   "source": [
    "### Data Types\r\n",
    "\r\n",
    "There are different types of variables in Python. You can easily check the type using the `type(variable)` function, as seen in the above example.\r\n",
    "\r\n",
    "- **Text Type**: `str`\r\n",
    "- **Numeric Types**: `int`, `float`, `complex`\r\n",
    "- **Sequence Types**: `list`, `tuple`, `range`\r\n",
    "- **Mapping Type**: `dict`\r\n",
    "- **Set Types**: `set`, `frozenset`\r\n",
    "- **Boolean Type**: `bool`\r\n",
    "- **Binary Types**: `bytes`, `bytearray`, `memoryview`\r\n",
    "- **None Type**: `NoneType`\r\n",
    "oneType"
   ]
  },
  {
   "cell_type": "markdown",
   "id": "dbd2cbb5-b73b-4bb8-ae0f-8a5c0a6f2d53",
   "metadata": {},
   "source": [
    "### Boolean Expressions and Operators\r\n",
    "\r\n",
    "Boolean expressions in Python evaluate to `True` or `False`. They are commonly used in conditional statements and loops.\r\n",
    "\r\n",
    "#### Comparison Operators\r\n",
    "- `<` : Less than\r\n",
    "- `>` : Greater than\r\n",
    "- `==` : Equal to\r\n",
    "- `!=` : Not equal to\r\n",
    "- `<=` : Less than or equal to\r\n",
    "- `>=` : Greater than or equal to\r\n",
    "\r\n",
    "#### Arithmetic Operators\r\n",
    "- `+` : Addition\r\n",
    "- `-` : Subtraction\r\n",
    "- `*` : Multiplication\r\n",
    "- `/` : Division\r\n",
    "\r\n",
    "Below are examples demonstrating the use of Boolean expressions and arithmetic operators.\r\n"
   ]
  },
  {
   "cell_type": "code",
   "execution_count": 22,
   "id": "e7ee19ee-5ad0-46f7-b25f-a0e2c1fb0d8d",
   "metadata": {},
   "outputs": [
    {
     "name": "stdout",
     "output_type": "stream",
     "text": [
      "a < b: True\n",
      "a > b: False\n",
      "a == b: False\n",
      "a != b: True\n",
      "a <= b: True\n",
      "a >= b: False\n",
      "x + y = 8\n",
      "x - y = 2\n",
      "x * y = 15\n",
      "x / y = 1.6666666666666667\n"
     ]
    }
   ],
   "source": [
    "# Boolean Expressions\n",
    "a = 10\n",
    "b = 20\n",
    "\n",
    "print(\"a < b:\", a < b)    \n",
    "print(\"a > b:\", a > b)   \n",
    "print(\"a == b:\", a == b)  \n",
    "print(\"a != b:\", a != b)  \n",
    "print(\"a <= b:\", a <= b)  \n",
    "print(\"a >= b:\", a >= b)  \n",
    "\n",
    "# Arithmetic Operators\n",
    "x = 5\n",
    "y = 3\n",
    "\n",
    "print(\"x + y =\", x + y)  \n",
    "print(\"x - y =\", x - y)  \n",
    "print(\"x * y =\", x * y)  \n",
    "print(\"x / y =\", x / y)  \n"
   ]
  },
  {
   "cell_type": "markdown",
   "id": "b50dbe9e-4fce-4627-ad78-e2803d0067c2",
   "metadata": {},
   "source": [
    "## Application Currency Converter \n",
    "\r\n",
    "This program converts between three currencies: Pound, Dollar, and Pakistani Rupees. The conversion rates are predefined, and you can convert any amount from one currency to another.\r\n",
    "\r",
    "#### Conversion Rates\r\n",
    "- 1 Pound = 1.25 Dollars\r\n",
    "- 1 Pound = 200 Pakistani Rupees\r\n",
    "- 1 Dollar = 160 Pakistani Rupes\r\n",
    "\r\n",
    "#### Usage\r\n",
    "- Input the amount and the currencies you want to convert from and to.\r\n",
    "- The program will output the converted amount.\r\n"
   ]
  },
  {
   "cell_type": "code",
   "execution_count": null,
   "id": "8fe13824-ee97-4ab5-9f24-df19d4832814",
   "metadata": {},
   "outputs": [],
   "source": [
    " pound_to_dollar = 1.25\n",
    "pound_to_pkr = 200\n",
    "dollar_to_pkr = 160\n",
    "\n",
    "def convert_currency(amount, from_currency, to_currency):\n",
    "    if from_currency == 'Pound':\n",
    "        if to_currency == 'Dollar':\n",
    "            return amount * pound_to_dollar\n",
    "        elif to_currency == 'PKR':\n",
    "            return amount * pound_to_pkr\n",
    "    elif from_currency == 'Dollar':\n",
    "        if to_currency == 'Pound':\n",
    "            return amount / pound_to_dollar\n",
    "        elif to_currency == 'PKR':\n",
    "            return amount * dollar_to_pkr\n",
    "    elif from_currency == 'PKR':\n",
    "        if to_currency == 'Pound':\n",
    "            return amount / pound_to_pkr\n",
    "        elif to_currency == 'Dollar':\n",
    "            return amount / dollar_to_pkr\n",
    "    else:\n",
    "        return \"Invalid currency\"\n",
    "\n",
    "#to use the converter change the \n",
    "amount = 100\n",
    "from_currency = 'Pound'\n",
    "to_currency = 'Dollar'\n",
    "\n",
    "converted_amount = convert_currency(amount, from_currency, to_currency)\n",
    "print(f\"{amount} {from_currency} is equal to {converted_amount} {to_currency}\")\n"
   ]
  }
 ],
 "metadata": {
  "kernelspec": {
   "display_name": "Python 3 (ipykernel)",
   "language": "python",
   "name": "python3"
  },
  "language_info": {
   "codemirror_mode": {
    "name": "ipython",
    "version": 3
   },
   "file_extension": ".py",
   "mimetype": "text/x-python",
   "name": "python",
   "nbconvert_exporter": "python",
   "pygments_lexer": "ipython3",
   "version": "3.11.7"
  }
 },
 "nbformat": 4,
 "nbformat_minor": 5
}
