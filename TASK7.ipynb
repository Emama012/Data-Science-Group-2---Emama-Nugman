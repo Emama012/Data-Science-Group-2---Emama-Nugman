{
 "cells": [
  {
   "cell_type": "markdown",
   "id": "ab2bbd29-6fc6-4059-8504-55416be26ced",
   "metadata": {},
   "source": [
    "# Library Managemnet System"
   ]
  },
  {
   "cell_type": "markdown",
   "id": "55b070d5-2221-48db-b70a-4a5c105becf5",
   "metadata": {},
   "source": [
    "This project implements a Library Management System using Object-Oriented Programming (OOP) concepts in Python. It consists of three main classes: Book, Member, and Library. The Book class manages details such as title, author, ISBN, and availability status (available or borrowed). Meanwhile, the Member class handles member information including name, unique ID, and their borrowed book list. These classes are designed to efficiently handle interactions within the library environment. To ensure data persistence, I've Implemented JSON serialization. This technique converts Python objects (books and members) into JSON format for seamless storage and retrieval from files."
   ]
  },
  {
   "cell_type": "code",
   "execution_count": 1,
   "id": "871fdf70-bb9d-47db-871d-996f058e693e",
   "metadata": {},
   "outputs": [],
   "source": [
    "class Book:\n",
    "    def __init__(self, title, author, isbn, status=\"available\"):\n",
    "        self.title = title\n",
    "        self.author = author\n",
    "        self.isbn = isbn\n",
    "        self.status = status\n",
    "\n",
    "    def display_info(self):\n",
    "        print(f\"Title: {self.title}, Author: {self.author}, ISBN: {self.isbn}, Status: {self.status}\")\n",
    "\n",
    "    def mark_as_borrowed(self):\n",
    "        self.status = \"borrowed\"\n",
    "\n",
    "    def mark_as_returned(self):\n",
    "        self.status = \"available\"\n"
   ]
  },
  {
   "cell_type": "code",
   "execution_count": 2,
   "id": "70316450-c304-4665-82e8-b7f08b4363e2",
   "metadata": {},
   "outputs": [],
   "source": [
    "class Member:\n",
    "    def __init__(self, name, member_id, borrowed_books=None):\n",
    "        self.name = name\n",
    "        self.member_id = member_id\n",
    "        self.borrowed_books = borrowed_books if borrowed_books else []\n",
    "\n",
    "    def borrow_book(self, book):\n",
    "        if book.status == \"available\":\n",
    "            book.mark_as_borrowed()\n",
    "            self.borrowed_books.append(book)\n",
    "            print(f\"{self.name} has borrowed '{book.title}'.\")\n",
    "        else:\n",
    "            print(f\"'{book.title}' is currently not available.\")\n",
    "\n",
    "    def return_book(self, book):\n",
    "        if book in self.borrowed_books:\n",
    "            book.mark_as_returned()\n",
    "            self.borrowed_books.remove(book)\n",
    "            print(f\"{self.name} has returned '{book.title}'.\")\n",
    "        else:\n",
    "            print(f\"{self.name} did not borrow '{book.title}'.\")\n",
    "\n",
    "    def display_info(self):\n",
    "        print(f\"Member ID: {self.member_id}, Name: {self.name}\")\n",
    "        if self.borrowed_books:\n",
    "            print(\"Borrowed books:\")\n",
    "            for book in self.borrowed_books:\n",
    "                print(f\" - {book.title}\")\n",
    "        else:\n",
    "            print(\"No borrowed books.\")\n",
    "\n",
    "    def to_dict(self):\n",
    "        return {\n",
    "            \"name\": self.name,\n",
    "            \"member_id\": self.member_id,\n",
    "            \"borrowed_books\": [book.__dict__ for book in self.borrowed_books]\n",
    "        }\n",
    "\n",
    "    @classmethod\n",
    "    def from_dict(cls, data):\n",
    "        borrowed_books = [Book(**book_data) for book_data in data[\"borrowed_books\"]]\n",
    "        return cls(data[\"name\"], data[\"member_id\"], borrowed_books)\n"
   ]
  },
  {
   "cell_type": "code",
   "execution_count": 3,
   "id": "b4a1889c-1194-4875-99fa-83dfd2529187",
   "metadata": {},
   "outputs": [],
   "source": [
    "import json\n",
    "\n",
    "class Library:\n",
    "    def __init__(self, books_file=\"books.json\", members_file=\"members.json\"):\n",
    "        self.books_file = books_file\n",
    "        self.members_file = members_file\n",
    "        self.books = self.load_books()\n",
    "        self.members = self.load_members()\n",
    "        if not self.books:\n",
    "            self.add_initial_books()\n",
    "\n",
    "    def load_books(self):\n",
    "        try:\n",
    "            with open(self.books_file, \"r\") as file:\n",
    "                books_data = json.load(file)\n",
    "                return [Book(**data) for data in books_data]\n",
    "        except (FileNotFoundError, json.JSONDecodeError):\n",
    "            return []\n",
    "\n",
    "    def save_books(self):\n",
    "        with open(self.books_file, \"w\") as file:\n",
    "            books_data = [book.__dict__ for book in self.books]\n",
    "            json.dump(books_data, file, indent=4)\n",
    "\n",
    "    def load_members(self):\n",
    "        try:\n",
    "            with open(self.members_file, \"r\") as file:\n",
    "                members_data = json.load(file)\n",
    "                return [Member.from_dict(data) for data in members_data]\n",
    "        except (FileNotFoundError, json.JSONDecodeError):\n",
    "            return []\n",
    "\n",
    "    def save_members(self):\n",
    "        with open(self.members_file, \"w\") as file:\n",
    "            members_data = [member.to_dict() for member in self.members]\n",
    "            json.dump(members_data, file, indent=4)\n",
    "\n",
    "    def add_book(self, book):\n",
    "        self.books.append(book)\n",
    "        self.save_books()\n",
    "        print(f\"Book '{book.title}' added to the library.\")\n",
    "\n",
    "    def register_member(self, member):\n",
    "        self.members.append(member)\n",
    "        self.save_members()\n",
    "        print(f\"Member '{member.name}' registered with ID {member.member_id}.\")\n",
    "\n",
    "    def issue_book(self, book_title, member_id):\n",
    "        member = next((m for m in self.members if m.member_id == member_id), None)\n",
    "        book = next((b for b in self.books if b.title == book_title), None)\n",
    "\n",
    "        if member and book:\n",
    "            member.borrow_book(book)\n",
    "            self.save_books()\n",
    "            self.save_members()\n",
    "        else:\n",
    "            print(\"Member or Book not found.\")\n",
    "\n",
    "    def return_book(self, book_title, member_id):\n",
    "        member = next((m for m in self.members if m.member_id == member_id), None)\n",
    "        book = next((b for b in self.books if b.title == book_title), None)\n",
    "\n",
    "        if member and book:\n",
    "            member.return_book(book)\n",
    "            self.save_books()\n",
    "            self.save_members()\n",
    "        else:\n",
    "            print(\"Member or Book not found.\")\n",
    "\n",
    "    def display_all_books(self):\n",
    "        for book in self.books:\n",
    "            book.display_info()\n",
    "\n",
    "    def display_all_members(self):\n",
    "        for member in self.members:\n",
    "            member.display_info()\n",
    "\n",
    "    def add_initial_books(self):\n",
    "        initial_books = [\n",
    "            Book(\"Umrao Jaan Ada\", \"Mirza Hadi Ruswa\", \"9789693514419\"),\n",
    "            Book(\"Aangan\", \"Khadija Mastoor\", \"9789693514426\"),\n",
    "            Book(\"Aag Ka Darya\", \"Qurratulain Hyder\", \"9789693514433\"),\n",
    "            Book(\"Ghubar-e-Khatir\", \"Abul Kalam Azad\", \"9789693514440\"),\n",
    "            Book(\"Zavia\", \"Ashfaq Ahmed\", \"9789693514457\"),\n",
    "            Book(\"Toba Tek Singh\", \"Saadat Hasan Manto\", \"9789693514464\"),\n",
    "            Book(\"Khuda Ki Basti\", \"Shaukat Siddiqui\", \"9789693514471\"),\n",
    "            Book(\"Raja Gidh\", \"Bano Qudsia\", \"9789693514488\"),\n",
    "            Book(\"Ali Pur Ka Aili\", \"Mumtaz Mufti\", \"9789693514495\"),\n",
    "            Book(\"Shahab Nama\", \"Qudrat Ullah Shahab\", \"9789693514501\")\n",
    "        ]\n",
    "\n",
    "        self.books.extend(initial_books)\n",
    "        self.save_books()\n",
    "        print(\"Initial Urdu literature books have been added to the library.\")\n"
   ]
  },
  {
   "cell_type": "code",
   "execution_count": 4,
   "id": "d3bc74c3-1d0e-4686-a22f-e63ad471d3a8",
   "metadata": {},
   "outputs": [
    {
     "name": "stdout",
     "output_type": "stream",
     "text": [
      "\n",
      "Library Management System\n",
      "1. Display all books\n",
      "2. Display all members\n",
      "3. Issue a book\n",
      "4. Return a book\n",
      "5. Add a book\n",
      "6. Register a member\n",
      "7. Exit\n"
     ]
    },
    {
     "name": "stdin",
     "output_type": "stream",
     "text": [
      "Enter your choice:  1\n"
     ]
    },
    {
     "name": "stdout",
     "output_type": "stream",
     "text": [
      "\n",
      "All books in the library:\n",
      "Title: Umrao Jaan Ada, Author: Mirza Hadi Ruswa, ISBN: 9789693514419, Status: available\n",
      "Title: Aangan, Author: Khadija Mastoor, ISBN: 9789693514426, Status: borrowed\n",
      "Title: Aag Ka Darya, Author: Qurratulain Hyder, ISBN: 9789693514433, Status: available\n",
      "Title: Ghubar-e-Khatir, Author: Abul Kalam Azad, ISBN: 9789693514440, Status: available\n",
      "Title: Zavia, Author: Ashfaq Ahmed, ISBN: 9789693514457, Status: available\n",
      "Title: Toba Tek Singh, Author: Saadat Hasan Manto, ISBN: 9789693514464, Status: available\n",
      "Title: Khuda Ki Basti, Author: Shaukat Siddiqui, ISBN: 9789693514471, Status: available\n",
      "Title: Raja Gidh, Author: Bano Qudsia, ISBN: 9789693514488, Status: available\n",
      "Title: Ali Pur Ka Aili, Author: Mumtaz Mufti, ISBN: 9789693514495, Status: available\n",
      "Title: Shahab Nama, Author: Qudrat Ullah Shahab, ISBN: 9789693514501, Status: available\n",
      "Title: Janat ky patay, Author: Nemrah Ahmed, ISBN: 844746446764, Status: available\n",
      "\n",
      "Library Management System\n",
      "1. Display all books\n",
      "2. Display all members\n",
      "3. Issue a book\n",
      "4. Return a book\n",
      "5. Add a book\n",
      "6. Register a member\n",
      "7. Exit\n"
     ]
    },
    {
     "name": "stdin",
     "output_type": "stream",
     "text": [
      "Enter your choice:  2\n"
     ]
    },
    {
     "name": "stdout",
     "output_type": "stream",
     "text": [
      "\n",
      "All members in the library:\n",
      "\n",
      "Library Management System\n",
      "1. Display all books\n",
      "2. Display all members\n",
      "3. Issue a book\n",
      "4. Return a book\n",
      "5. Add a book\n",
      "6. Register a member\n",
      "7. Exit\n"
     ]
    },
    {
     "name": "stdin",
     "output_type": "stream",
     "text": [
      "Enter your choice:  6\n",
      "Enter the name of the member:  Emama\n",
      "Enter the member ID:  1\n"
     ]
    },
    {
     "name": "stdout",
     "output_type": "stream",
     "text": [
      "Member 'Emama' registered with ID 1.\n",
      "\n",
      "Library Management System\n",
      "1. Display all books\n",
      "2. Display all members\n",
      "3. Issue a book\n",
      "4. Return a book\n",
      "5. Add a book\n",
      "6. Register a member\n",
      "7. Exit\n"
     ]
    },
    {
     "name": "stdin",
     "output_type": "stream",
     "text": [
      "Enter your choice:  6\n",
      "Enter the name of the member:  Hamna\n",
      "Enter the member ID:  2\n"
     ]
    },
    {
     "name": "stdout",
     "output_type": "stream",
     "text": [
      "Member 'Hamna' registered with ID 2.\n",
      "\n",
      "Library Management System\n",
      "1. Display all books\n",
      "2. Display all members\n",
      "3. Issue a book\n",
      "4. Return a book\n",
      "5. Add a book\n",
      "6. Register a member\n",
      "7. Exit\n"
     ]
    },
    {
     "name": "stdin",
     "output_type": "stream",
     "text": [
      "Enter your choice:  6\n",
      "Enter the name of the member:  iman\n",
      "Enter the member ID:  3\n"
     ]
    },
    {
     "name": "stdout",
     "output_type": "stream",
     "text": [
      "Member 'iman' registered with ID 3.\n",
      "\n",
      "Library Management System\n",
      "1. Display all books\n",
      "2. Display all members\n",
      "3. Issue a book\n",
      "4. Return a book\n",
      "5. Add a book\n",
      "6. Register a member\n",
      "7. Exit\n"
     ]
    },
    {
     "name": "stdin",
     "output_type": "stream",
     "text": [
      "Enter your choice:  6\n",
      "Enter the name of the member:  Ahmad\n",
      "Enter the member ID:  4\n"
     ]
    },
    {
     "name": "stdout",
     "output_type": "stream",
     "text": [
      "Member 'Ahmad' registered with ID 4.\n",
      "\n",
      "Library Management System\n",
      "1. Display all books\n",
      "2. Display all members\n",
      "3. Issue a book\n",
      "4. Return a book\n",
      "5. Add a book\n",
      "6. Register a member\n",
      "7. Exit\n"
     ]
    },
    {
     "name": "stdin",
     "output_type": "stream",
     "text": [
      "Enter your choice:  2\n"
     ]
    },
    {
     "name": "stdout",
     "output_type": "stream",
     "text": [
      "\n",
      "All members in the library:\n",
      "Member ID: 1, Name: Emama\n",
      "No borrowed books.\n",
      "Member ID: 2, Name: Hamna\n",
      "No borrowed books.\n",
      "Member ID: 3, Name: iman\n",
      "No borrowed books.\n",
      "Member ID: 4, Name: Ahmad\n",
      "No borrowed books.\n",
      "\n",
      "Library Management System\n",
      "1. Display all books\n",
      "2. Display all members\n",
      "3. Issue a book\n",
      "4. Return a book\n",
      "5. Add a book\n",
      "6. Register a member\n",
      "7. Exit\n"
     ]
    },
    {
     "name": "stdin",
     "output_type": "stream",
     "text": [
      "Enter your choice:  3\n",
      "Enter the title of the book to issue:  Aangan\n",
      "Enter the member ID:  1\n"
     ]
    },
    {
     "name": "stdout",
     "output_type": "stream",
     "text": [
      "'Aangan' is currently not available.\n",
      "\n",
      "Member info after borrowing a book:\n",
      "Member ID: 1, Name: Emama\n",
      "No borrowed books.\n",
      "\n",
      "Library Management System\n",
      "1. Display all books\n",
      "2. Display all members\n",
      "3. Issue a book\n",
      "4. Return a book\n",
      "5. Add a book\n",
      "6. Register a member\n",
      "7. Exit\n"
     ]
    },
    {
     "name": "stdin",
     "output_type": "stream",
     "text": [
      "Enter your choice:  3\n",
      "Enter the title of the book to issue:  Zavia\n",
      "Enter the member ID:  2\n"
     ]
    },
    {
     "name": "stdout",
     "output_type": "stream",
     "text": [
      "Hamna has borrowed 'Zavia'.\n",
      "\n",
      "Member info after borrowing a book:\n",
      "Member ID: 2, Name: Hamna\n",
      "Borrowed books:\n",
      " - Zavia\n",
      "\n",
      "Library Management System\n",
      "1. Display all books\n",
      "2. Display all members\n",
      "3. Issue a book\n",
      "4. Return a book\n",
      "5. Add a book\n",
      "6. Register a member\n",
      "7. Exit\n"
     ]
    },
    {
     "name": "stdin",
     "output_type": "stream",
     "text": [
      "Enter your choice:  2\n"
     ]
    },
    {
     "name": "stdout",
     "output_type": "stream",
     "text": [
      "\n",
      "All members in the library:\n",
      "Member ID: 1, Name: Emama\n",
      "No borrowed books.\n",
      "Member ID: 2, Name: Hamna\n",
      "Borrowed books:\n",
      " - Zavia\n",
      "Member ID: 3, Name: iman\n",
      "No borrowed books.\n",
      "Member ID: 4, Name: Ahmad\n",
      "No borrowed books.\n",
      "\n",
      "Library Management System\n",
      "1. Display all books\n",
      "2. Display all members\n",
      "3. Issue a book\n",
      "4. Return a book\n",
      "5. Add a book\n",
      "6. Register a member\n",
      "7. Exit\n"
     ]
    },
    {
     "name": "stdin",
     "output_type": "stream",
     "text": [
      "Enter your choice:  3\n",
      "Enter the title of the book to issue:  janat ky patay\n",
      "Enter the member ID:  4\n"
     ]
    },
    {
     "name": "stdout",
     "output_type": "stream",
     "text": [
      "Member or Book not found.\n",
      "\n",
      "Member info after borrowing a book:\n",
      "Member ID: 4, Name: Ahmad\n",
      "No borrowed books.\n",
      "\n",
      "Library Management System\n",
      "1. Display all books\n",
      "2. Display all members\n",
      "3. Issue a book\n",
      "4. Return a book\n",
      "5. Add a book\n",
      "6. Register a member\n",
      "7. Exit\n"
     ]
    },
    {
     "name": "stdin",
     "output_type": "stream",
     "text": [
      "Enter your choice:  2\n"
     ]
    },
    {
     "name": "stdout",
     "output_type": "stream",
     "text": [
      "\n",
      "All members in the library:\n",
      "Member ID: 1, Name: Emama\n",
      "No borrowed books.\n",
      "Member ID: 2, Name: Hamna\n",
      "Borrowed books:\n",
      " - Zavia\n",
      "Member ID: 3, Name: iman\n",
      "No borrowed books.\n",
      "Member ID: 4, Name: Ahmad\n",
      "No borrowed books.\n",
      "\n",
      "Library Management System\n",
      "1. Display all books\n",
      "2. Display all members\n",
      "3. Issue a book\n",
      "4. Return a book\n",
      "5. Add a book\n",
      "6. Register a member\n",
      "7. Exit\n"
     ]
    },
    {
     "name": "stdin",
     "output_type": "stream",
     "text": [
      "Enter your choice:  7\n"
     ]
    }
   ],
   "source": [
    "def main_menu():\n",
    "    library = Library()\n",
    "\n",
    "    while True:\n",
    "        print(\"\\nLibrary Management System\")\n",
    "        print(\"1. Display all books\")\n",
    "        print(\"2. Display all members\")\n",
    "        print(\"3. Issue a book\")\n",
    "        print(\"4. Return a book\")\n",
    "        print(\"5. Add a book\")\n",
    "        print(\"6. Register a member\")\n",
    "        print(\"7. Exit\")\n",
    "\n",
    "        choice = input(\"Enter your choice: \")\n",
    "\n",
    "        if choice == \"1\":\n",
    "            print(\"\\nAll books in the library:\")\n",
    "            library.display_all_books()\n",
    "        elif choice == \"2\":\n",
    "            print(\"\\nAll members in the library:\")\n",
    "            library.display_all_members()\n",
    "        elif choice == \"3\":\n",
    "            book_title = input(\"Enter the title of the book to issue: \")\n",
    "            member_id = int(input(\"Enter the member ID: \"))\n",
    "            library.issue_book(book_title, member_id)\n",
    "            member = next((m for m in library.members if m.member_id == member_id), None)\n",
    "            if member:\n",
    "                print(\"\\nMember info after borrowing a book:\")\n",
    "                member.display_info()\n",
    "        elif choice == \"4\":\n",
    "            book_title = input(\"Enter the title of the book to return: \")\n",
    "            member_id = int(input(\"Enter the member ID: \"))\n",
    "            library.return_book(book_title, member_id)\n",
    "            member = next((m for m in library.members if m.member_id == member_id), None)\n",
    "            if member:\n",
    "                print(\"\\nMember info after returning a book:\")\n",
    "                member.display_info()\n",
    "        elif choice == \"5\":\n",
    "            title = input(\"Enter the title of the book: \")\n",
    "            author = input(\"Enter the author of the book: \")\n",
    "            isbn = input(\"Enter the ISBN of the book: \")\n",
    "            book = Book(title, author, isbn)\n",
    "            library.add_book(book)\n",
    "        elif choice == \"6\":\n",
    "            name = input(\"Enter the name of the member: \")\n",
    "            member_id = int(input(\"Enter the member ID: \"))\n",
    "            member = Member(name, member_id)\n",
    "            library.register_member(member)\n",
    "        elif choice == \"7\":\n",
    "            break\n",
    "        else:\n",
    "            print(\"Invalid choice. Please try again.\")\n",
    "\n",
    "if __name__ == \"__main__\":\n",
    "    main_menu()\n"
   ]
  }
 ],
 "metadata": {
  "kernelspec": {
   "display_name": "Python 3 (ipykernel)",
   "language": "python",
   "name": "python3"
  },
  "language_info": {
   "codemirror_mode": {
    "name": "ipython",
    "version": 3
   },
   "file_extension": ".py",
   "mimetype": "text/x-python",
   "name": "python",
   "nbconvert_exporter": "python",
   "pygments_lexer": "ipython3",
   "version": "3.11.7"
  }
 },
 "nbformat": 4,
 "nbformat_minor": 5
}
