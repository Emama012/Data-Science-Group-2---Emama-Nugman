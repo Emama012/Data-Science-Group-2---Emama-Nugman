{
 "cells": [
  {
   "cell_type": "markdown",
   "id": "a225126b-9808-4225-89e2-7f194db7bb8f",
   "metadata": {},
   "source": [
    "# Task 25: Logistic Regression \n",
    "\n",
    "In this notebook, we will build a Logistic Regression model from scratch. \n",
    "\n",
    "## 1. Import Libraries\n",
    "We'll start by importing the necessary libraries.\n"
   ]
  },
  {
   "cell_type": "code",
   "execution_count": 3,
   "id": "990795b3-ed04-49ee-840d-510ef401ef88",
   "metadata": {},
   "outputs": [],
   "source": [
    "import numpy as np\n",
    "import pandas as pd\n",
    "import matplotlib.pyplot as plt\n",
    "from sklearn.datasets import load_iris\n",
    "from sklearn.model_selection import train_test_split\n",
    "from sklearn.preprocessing import StandardScaler"
   ]
  },
  {
   "cell_type": "markdown",
   "id": "4a20f57c-1303-4c8f-9956-38cc31b4d3b0",
   "metadata": {},
   "source": [
    "## 2. Load and Prepare Data\r\n",
    "We'll use the Iris dataset, specifically focusing on a binary classification problem.\r\n"
   ]
  },
  {
   "cell_type": "code",
   "execution_count": 4,
   "id": "195ba99c-40cb-4c12-9b4b-bdadebfceba7",
   "metadata": {},
   "outputs": [
    {
     "name": "stdout",
     "output_type": "stream",
     "text": [
      "Data Loaded and Preprocessed\n"
     ]
    }
   ],
   "source": [
    "# Load Iris dataset\n",
    "iris = load_iris()\n",
    "X = iris.data\n",
    "y = (iris.target != 0) * 1  # Binary classification (setosa vs non-setosa)\n",
    "\n",
    "# Split the data into training and test sets\n",
    "X_train, X_test, y_train, y_test = train_test_split(X, y, test_size=0.2, random_state=42)\n",
    "\n",
    "# Feature scaling\n",
    "scaler = StandardScaler()\n",
    "X_train = scaler.fit_transform(X_train)\n",
    "X_test = scaler.transform(X_test)\n",
    "\n",
    "print(\"Data Loaded and Preprocessed\")"
   ]
  },
  {
   "cell_type": "markdown",
   "id": "42a4c534-e9ac-448f-815e-e87741bc61eb",
   "metadata": {},
   "source": [
    "## 3. Define the Sigmoid Function\r\n",
    "The sigmoid function maps any real-valued number into the range [0, 1], which is useful for binary classification.\r\n"
   ]
  },
  {
   "cell_type": "code",
   "execution_count": 5,
   "id": "37994b3c-c241-4d80-b3d2-8a80d8cb521d",
   "metadata": {},
   "outputs": [],
   "source": [
    "\n",
    "def sigmoid(z):\n",
    "    return 1 / (1 + np.exp(-z))\n"
   ]
  },
  {
   "cell_type": "markdown",
   "id": "fb8f88bb-8da5-4595-8014-2f4d800faa53",
   "metadata": {},
   "source": [
    "## 4. Define the Cost Function\r\n",
    "The cost function measures the error between the predicted probabilities and the actual labels.\r\n"
   ]
  },
  {
   "cell_type": "code",
   "execution_count": 6,
   "id": "5cd03b7a-d238-4fda-88f4-75a0cef78ca0",
   "metadata": {},
   "outputs": [],
   "source": [
    "def compute_cost(y, y_pred):\n",
    "    m = len(y)\n",
    "    return -1/m * np.sum(y * np.log(y_pred) + (1 - y) * np.log(1 - y_pred))"
   ]
  },
  {
   "cell_type": "markdown",
   "id": "f6adcf01-7a8f-4f33-96b2-b13ba583bfc6",
   "metadata": {},
   "source": [
    "## 5. Implement Gradient Descent\r\n",
    "Gradient descent will be used to minimize the cost function and update the weights.\r\n"
   ]
  },
  {
   "cell_type": "code",
   "execution_count": null,
   "id": "1928acc0-e23a-459e-8b23-ddfb01057725",
   "metadata": {},
   "outputs": [],
   "source": [
    "def gradient_descent(X, y, learning_rate, num_iterations):\n",
    "    m, n = X.shape\n",
    "    weights = np.zeros(n)\n",
    "    bias = 0\n",
    "    cost_history = []\n",
    "\n",
    "    for i in range(num_iterations):\n",
    "        # Compute linear model\n",
    "        z = np.dot(X, weights) + bias\n",
    "        y_pred = sigmoid(z)\n",
    "\n",
    "        # Compute cost\n",
    "        cost = compute_cost(y, y_pred)\n",
    "        cost_history.append(cost)\n",
    "\n",
    "        # Compute gradients\n",
    "        dw = (1/m) * np.dot(X.T, (y_pred - y))\n",
    "        db = (1/m) * np.sum(y_pred - y)\n",
    "\n",
    "        # Update weights and bias\n",
    "        weights -= learning_rate * dw\n",
    "        bias -= learning_rate * db\n",
    "\n",
    "    return weights, bias, cost_history"
   ]
  }
 ],
 "metadata": {
  "kernelspec": {
   "display_name": "Python 3 (ipykernel)",
   "language": "python",
   "name": "python3"
  },
  "language_info": {
   "codemirror_mode": {
    "name": "ipython",
    "version": 3
   },
   "file_extension": ".py",
   "mimetype": "text/x-python",
   "name": "python",
   "nbconvert_exporter": "python",
   "pygments_lexer": "ipython3",
   "version": "3.11.7"
  }
 },
 "nbformat": 4,
 "nbformat_minor": 5
}
