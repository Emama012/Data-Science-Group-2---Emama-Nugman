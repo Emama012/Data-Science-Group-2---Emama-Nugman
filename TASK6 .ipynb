{
 "cells": [
  {
   "cell_type": "code",
   "execution_count": 2,
   "id": "033688c9-ad7e-4680-86cf-783ee5a3504b",
   "metadata": {},
   "outputs": [
    {
     "name": "stdout",
     "output_type": "stream",
     "text": [
      "\n",
      "Event Scheduler\n",
      "1. Add Event\n",
      "2. View Events\n",
      "3. Update Event\n",
      "4. Delete Event\n",
      "5. Exit\n"
     ]
    },
    {
     "name": "stdin",
     "output_type": "stream",
     "text": [
      "Enter your choice:  1\n",
      "Enter event title:  birthday\n",
      "Enter event date (YYYY-MM-DD):  53-98-09\n",
      "Enter event time (HH:MM):  ue:87\n",
      "Enter event description:  vccjv\n"
     ]
    },
    {
     "name": "stdout",
     "output_type": "stream",
     "text": [
      "Event added successfully!\n",
      "\n",
      "Event Scheduler\n",
      "1. Add Event\n",
      "2. View Events\n",
      "3. Update Event\n",
      "4. Delete Event\n",
      "5. Exit\n"
     ]
    },
    {
     "name": "stdin",
     "output_type": "stream",
     "text": [
      "Enter your choice:  1\n",
      "Enter event title:  marrige\n",
      "Enter event date (YYYY-MM-DD):  623-98-21\n",
      "Enter event time (HH:MM):  87:87\n",
      "Enter event description:  sgfgf\n"
     ]
    },
    {
     "name": "stdout",
     "output_type": "stream",
     "text": [
      "Event added successfully!\n",
      "\n",
      "Event Scheduler\n",
      "1. Add Event\n",
      "2. View Events\n",
      "3. Update Event\n",
      "4. Delete Event\n",
      "5. Exit\n"
     ]
    },
    {
     "name": "stdin",
     "output_type": "stream",
     "text": [
      "Enter your choice:  2\n"
     ]
    },
    {
     "name": "stdout",
     "output_type": "stream",
     "text": [
      "1. Title: Birthday, Date: 2024-06-16, Time: 2130, Description: ...\n",
      "2. Title: Birthday, Date: 2002-10-02, Time: 21:20, Description: Birthdayyy event\n",
      "3. Title: Marrige, Date: 2001-02-92, Time: 93:83, Description: hshsgss\n",
      "4. Title: birthday, Date: 53-98-09, Time: ue:87, Description: vccjv\n",
      "5. Title: marrige, Date: 623-98-21, Time: 87:87, Description: sgfgf\n",
      "\n",
      "Event Scheduler\n",
      "1. Add Event\n",
      "2. View Events\n",
      "3. Update Event\n",
      "4. Delete Event\n",
      "5. Exit\n"
     ]
    },
    {
     "name": "stdin",
     "output_type": "stream",
     "text": [
      "Enter your choice:  4\n"
     ]
    },
    {
     "name": "stdout",
     "output_type": "stream",
     "text": [
      "1. Title: Birthday, Date: 2024-06-16, Time: 2130, Description: ...\n",
      "2. Title: Birthday, Date: 2002-10-02, Time: 21:20, Description: Birthdayyy event\n",
      "3. Title: Marrige, Date: 2001-02-92, Time: 93:83, Description: hshsgss\n",
      "4. Title: birthday, Date: 53-98-09, Time: ue:87, Description: vccjv\n",
      "5. Title: marrige, Date: 623-98-21, Time: 87:87, Description: sgfgf\n"
     ]
    },
    {
     "name": "stdin",
     "output_type": "stream",
     "text": [
      "Enter the number of the event to delete:  1\n"
     ]
    },
    {
     "name": "stdout",
     "output_type": "stream",
     "text": [
      "Event deleted successfully!\n",
      "\n",
      "Event Scheduler\n",
      "1. Add Event\n",
      "2. View Events\n",
      "3. Update Event\n",
      "4. Delete Event\n",
      "5. Exit\n"
     ]
    },
    {
     "name": "stdin",
     "output_type": "stream",
     "text": [
      "Enter your choice:  2\n"
     ]
    },
    {
     "name": "stdout",
     "output_type": "stream",
     "text": [
      "1. Title: Birthday, Date: 2002-10-02, Time: 21:20, Description: Birthdayyy event\n",
      "2. Title: Marrige, Date: 2001-02-92, Time: 93:83, Description: hshsgss\n",
      "3. Title: birthday, Date: 53-98-09, Time: ue:87, Description: vccjv\n",
      "4. Title: marrige, Date: 623-98-21, Time: 87:87, Description: sgfgf\n",
      "\n",
      "Event Scheduler\n",
      "1. Add Event\n",
      "2. View Events\n",
      "3. Update Event\n",
      "4. Delete Event\n",
      "5. Exit\n"
     ]
    },
    {
     "name": "stdin",
     "output_type": "stream",
     "text": [
      "Enter your choice:  5\n"
     ]
    },
    {
     "name": "stdout",
     "output_type": "stream",
     "text": [
      "Terminating\n"
     ]
    }
   ],
   "source": [
    "import os\n",
    "def add_event(filename):\n",
    "    title = input(\"Enter event title: \")\n",
    "    date = input(\"Enter event date (YYYY-MM-DD): \")\n",
    "    time = input(\"Enter event time (HH:MM): \")\n",
    "    description = input(\"Enter event description: \")\n",
    "    \n",
    "    with open(filename, 'a') as file:\n",
    "        file.write(f\"{title},{date},{time},{description}\\n\")\n",
    "    \n",
    "    print(\"Event added successfully!\")\n",
    "\n",
    "def view_events(filename):\n",
    "    if not os.path.exists(filename):\n",
    "        print(\"No events found.\")\n",
    "        return\n",
    "    \n",
    "    with open(filename, 'r') as file:\n",
    "        events = file.readlines()\n",
    "        \n",
    "    if events:\n",
    "        for idx, event in enumerate(events):\n",
    "            title, date, time, description = event.strip().split(',')\n",
    "            print(f\"{idx + 1}. Title: {title}, Date: {date}, Time: {time}, Description: {description}\")\n",
    "    else:\n",
    "        print(\"No events found.\")\n",
    "\n",
    "def update_event(filename):\n",
    "    if not os.path.exists(filename):\n",
    "        print(\"No events found.\")\n",
    "        return\n",
    "    \n",
    "    with open(filename, 'r') as file:\n",
    "        events = file.readlines()\n",
    "    \n",
    "    if events:\n",
    "        for idx, event in enumerate(events):\n",
    "            title, date, time, description = event.strip().split(',')\n",
    "            print(f\"{idx + 1}. Title: {title}, Date: {date}, Time: {time}, Description: {description}\")\n",
    "        \n",
    "        index = int(input(\"Enter the number of the event to update: \")) - 1\n",
    "        \n",
    "        if 0 <= index < len(events):\n",
    "            title = input(\"Enter new event title: \")\n",
    "            date = input(\"Enter new event date (YYYY-MM-DD): \")\n",
    "            time = input(\"Enter new event time (HH:MM): \")\n",
    "            description = input(\"Enter new event description: \")\n",
    "            events[index] = f\"{title},{date},{time},{description}\\n\"\n",
    "            \n",
    "            with open(filename, 'w') as file:\n",
    "                file.writelines(events)\n",
    "            \n",
    "            print(\"Event updated successfully!\")\n",
    "        else:\n",
    "            print(\"Invalid event number.\")\n",
    "    else:\n",
    "        print(\"No events found.\")\n",
    "\n",
    "def delete_event(filename):\n",
    "    if not os.path.exists(filename):\n",
    "        print(\"No events found.\")\n",
    "        return\n",
    "    \n",
    "    with open(filename, 'r') as file:\n",
    "        events = file.readlines()\n",
    "    \n",
    "    if events:\n",
    "        for idx, event in enumerate(events):\n",
    "            title, date, time, description = event.strip().split(',')\n",
    "            print(f\"{idx + 1}. Title: {title}, Date: {date}, Time: {time}, Description: {description}\")\n",
    "        \n",
    "        index = int(input(\"Enter the number of the event to delete: \")) - 1\n",
    "        \n",
    "        if 0 <= index < len(events):\n",
    "            events.pop(index)\n",
    "            \n",
    "            with open(filename, 'w') as file:\n",
    "                file.writelines(events)\n",
    "            \n",
    "            print(\"Event deleted successfully!\")\n",
    "        else:\n",
    "            print(\"Invalid event number.\")\n",
    "    else:\n",
    "        print(\"No events found.\")\n",
    "\n",
    "def main():\n",
    "    filename = 'events.txt'\n",
    "    while True:\n",
    "        print(\"\\nEvent Scheduler\")\n",
    "        print(\"1. Add Event\")\n",
    "        print(\"2. View Events\")\n",
    "        print(\"3. Update Event\")\n",
    "        print(\"4. Delete Event\")\n",
    "        print(\"5. Exit\")\n",
    "        \n",
    "        choice = input(\"Enter your choice: \")\n",
    "        \n",
    "        if choice == '1':\n",
    "            add_event(filename)\n",
    "        elif choice == '2':\n",
    "            view_events(filename)\n",
    "        elif choice == '3':\n",
    "            update_event(filename)\n",
    "        elif choice == '4':\n",
    "            delete_event(filename)\n",
    "        elif choice == '5':\n",
    "            print(\"Terminating\")\n",
    "            break\n",
    "        else:\n",
    "            print(\"Invalid choice. Please try again.\")\n",
    "\n",
    "main()\n"
   ]
  },
  {
   "cell_type": "code",
   "execution_count": 5,
   "id": "97e59645-9c76-4ed5-940b-0a8f0ef4d311",
   "metadata": {},
   "outputs": [
    {
     "name": "stdout",
     "output_type": "stream",
     "text": [
      "\n",
      "Contact Management System\n",
      "1. Add Contact\n",
      "2. View Contacts\n",
      "3. Update Contact\n",
      "4. Delete Contact\n",
      "5. Exit\n"
     ]
    },
    {
     "name": "stdin",
     "output_type": "stream",
     "text": [
      "Enter your choice:  2\n"
     ]
    },
    {
     "name": "stdout",
     "output_type": "stream",
     "text": [
      "1. Name: emama, Phone: 03116723319, Email: abc.com\n",
      "2. Name: hamna, Phone: 031105258972, Email: axz.com\n",
      "\n",
      "Contact Management System\n",
      "1. Add Contact\n",
      "2. View Contacts\n",
      "3. Update Contact\n",
      "4. Delete Contact\n",
      "5. Exit\n"
     ]
    },
    {
     "name": "stdin",
     "output_type": "stream",
     "text": [
      "Enter your choice:  3\n"
     ]
    },
    {
     "name": "stdout",
     "output_type": "stream",
     "text": [
      "1. Name: emama, Phone: 03116723319, Email: abc.com\n",
      "2. Name: hamna, Phone: 031105258972, Email: axz.com\n"
     ]
    },
    {
     "name": "stdin",
     "output_type": "stream",
     "text": [
      "Enter the number of the contact to update:  2\n",
      "Enter new contact name:  huru\n",
      "Enter new contact phone number:  0945242442\n",
      "Enter new contact email:  hdb.com\n"
     ]
    },
    {
     "name": "stdout",
     "output_type": "stream",
     "text": [
      "Contact updated successfully!\n",
      "\n",
      "Contact Management System\n",
      "1. Add Contact\n",
      "2. View Contacts\n",
      "3. Update Contact\n",
      "4. Delete Contact\n",
      "5. Exit\n"
     ]
    },
    {
     "name": "stdin",
     "output_type": "stream",
     "text": [
      "Enter your choice:  2\n"
     ]
    },
    {
     "name": "stdout",
     "output_type": "stream",
     "text": [
      "1. Name: emama, Phone: 03116723319, Email: abc.com\n",
      "2. Name: huru, Phone: 0945242442, Email: hdb.com\n",
      "\n",
      "Contact Management System\n",
      "1. Add Contact\n",
      "2. View Contacts\n",
      "3. Update Contact\n",
      "4. Delete Contact\n",
      "5. Exit\n"
     ]
    },
    {
     "name": "stdin",
     "output_type": "stream",
     "text": [
      "Enter your choice:  5\n"
     ]
    },
    {
     "name": "stdout",
     "output_type": "stream",
     "text": [
      "Terminating\n"
     ]
    }
   ],
   "source": [
    "import os\n",
    "\n",
    "def add_contact(filename):\n",
    "    with open(filename, 'a') as file:\n",
    "        name = input(\"Enter contact name: \")\n",
    "        phone = input(\"Enter contact phone number: \")\n",
    "        email = input(\"Enter contact email: \")\n",
    "        file.write(f\"{name},{phone},{email}\\n\")\n",
    "    print(\"Contact added successfully!\")\n",
    "\n",
    "def view_contacts(filename):\n",
    "    if not os.path.exists(filename):\n",
    "        print(\"No contacts found.\")\n",
    "        return\n",
    "    with open(filename, 'r') as file:\n",
    "        contacts = file.readlines()\n",
    "        if contacts:\n",
    "            for idx, contact in enumerate(contacts):\n",
    "                name, phone, email = contact.strip().split(',')\n",
    "                print(f\"{idx + 1}. Name: {name}, Phone: {phone}, Email: {email}\")\n",
    "        else:\n",
    "            print(\"No contacts found.\")\n",
    "\n",
    "def update_contact(filename):\n",
    "    if not os.path.exists(filename):\n",
    "        print(\"No contacts found.\")\n",
    "        return\n",
    "    with open(filename, 'r') as file:\n",
    "        contacts = file.readlines()\n",
    "    \n",
    "    if contacts:\n",
    "        for idx, contact in enumerate(contacts):\n",
    "            name, phone, email = contact.strip().split(',')\n",
    "            print(f\"{idx + 1}. Name: {name}, Phone: {phone}, Email: {email}\")\n",
    "        \n",
    "        index = int(input(\"Enter the number of the contact to update: \")) - 1\n",
    "        if 0 <= index < len(contacts):\n",
    "            name = input(\"Enter new contact name: \")\n",
    "            phone = input(\"Enter new contact phone number: \")\n",
    "            email = input(\"Enter new contact email: \")\n",
    "            contacts[index] = f\"{name},{phone},{email}\\n\"\n",
    "            with open(filename, 'w') as file:\n",
    "                file.writelines(contacts)\n",
    "            print(\"Contact updated successfully!\")\n",
    "        else:\n",
    "            print(\"Invalid contact number.\")\n",
    "    else:\n",
    "        print(\"No contacts found.\")\n",
    "\n",
    "def delete_contact(filename):\n",
    "    if not os.path.exists(filename):\n",
    "        print(\"No contacts found.\")\n",
    "        return\n",
    "    with open(filename, 'r') as file:\n",
    "        contacts = file.readlines()\n",
    "    \n",
    "    if contacts:\n",
    "        for idx, contact in enumerate(contacts):\n",
    "            name, phone, email = contact.strip().split(',')\n",
    "            print(f\"{idx + 1}. Name: {name}, Phone: {phone}, Email: {email}\")\n",
    "        \n",
    "        index = int(input(\"Enter the number of the contact to delete: \")) - 1\n",
    "        if 0 <= index < len(contacts):\n",
    "            contacts.pop(index)\n",
    "            with open(filename, 'w') as file:\n",
    "                file.writelines(contacts)\n",
    "            print(\"Contact deleted successfully!\")\n",
    "        else:\n",
    "            print(\"Invalid contact number.\")\n",
    "    else:\n",
    "        print(\"No contacts found.\")\n",
    "\n",
    "def main():\n",
    "    filename = 'contacts.txt'\n",
    "    while True:\n",
    "        print(\"\\nContact Management System\")\n",
    "        print(\"1. Add Contact\")\n",
    "        print(\"2. View Contacts\")\n",
    "        print(\"3. Update Contact\")\n",
    "        print(\"4. Delete Contact\")\n",
    "        print(\"5. Exit\")\n",
    "        choice = input(\"Enter your choice: \")\n",
    "        \n",
    "        if choice == '1':\n",
    "            add_contact(filename)\n",
    "        elif choice == '2':\n",
    "            view_contacts(filename)\n",
    "        elif choice == '3':\n",
    "            update_contact(filename)\n",
    "        elif choice == '4':\n",
    "            delete_contact(filename)\n",
    "        elif choice == '5':\n",
    "            print(\"Terminating\")\n",
    "            break\n",
    "        else:\n",
    "            print(\"Invalid choice. Please try again.\")\n",
    " \n",
    "main()\n"
   ]
  },
  {
   "cell_type": "code",
   "execution_count": null,
   "id": "b0005e30-f8f2-443e-a3df-30fe64bdbdc6",
   "metadata": {},
   "outputs": [],
   "source": []
  }
 ],
 "metadata": {
  "kernelspec": {
   "display_name": "Python 3 (ipykernel)",
   "language": "python",
   "name": "python3"
  },
  "language_info": {
   "codemirror_mode": {
    "name": "ipython",
    "version": 3
   },
   "file_extension": ".py",
   "mimetype": "text/x-python",
   "name": "python",
   "nbconvert_exporter": "python",
   "pygments_lexer": "ipython3",
   "version": "3.11.7"
  }
 },
 "nbformat": 4,
 "nbformat_minor": 5
}
