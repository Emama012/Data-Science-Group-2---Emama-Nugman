{
 "cells": [
  {
   "cell_type": "markdown",
   "id": "11f87dcc-cf7a-475b-9a8b-c637747c4989",
   "metadata": {},
   "source": [
    "# Task 24: Evaluation Techniques for Regression Models\r\n",
    "\r\n",
    "In this notebook, we will explore various evaluation techniques for regression models. We will use the California housing dataset and apply different regression models, including Linear Regression, Ridge Regression, Lasso Regression, and Polynomial Regression. We will then evaluate these models using multiple metrics: Mean Absolute Error (MAE), Mean Squared Error (MSE), Root Mean Squared Error (RMSE), R-squared (R²), and Median Absolute Error.\r\n",
    "\r\n",
    "## 1. Import Libraries\r\n"
   ]
  },
  {
   "cell_type": "code",
   "execution_count": 1,
   "id": "31ec9a93-1983-47b9-a344-2bb006bb9ea9",
   "metadata": {},
   "outputs": [],
   "source": [
    "# Cell 1: Import Libraries\n",
    "import numpy as np\n",
    "import pandas as pd\n",
    "import matplotlib.pyplot as plt\n",
    "from sklearn.datasets import fetch_california_housing\n",
    "from sklearn.model_selection import train_test_split\n",
    "from sklearn.linear_model import LinearRegression, Ridge, Lasso\n",
    "from sklearn.preprocessing import PolynomialFeatures\n",
    "from sklearn.pipeline import make_pipeline\n",
    "from sklearn.metrics import mean_absolute_error, mean_squared_error, r2_score, median_absolute_error\n"
   ]
  },
  {
   "cell_type": "markdown",
   "id": "6e304a58-2e4f-4ee5-8e89-967f5e297010",
   "metadata": {},
   "source": [
    "## 2. Load and Prepare Data\r\n",
    "Here, we load the California housing dataset, split it into training and test sets, and prepare it for model training and evaluation.\r\n"
   ]
  },
  {
   "cell_type": "code",
   "execution_count": 2,
   "id": "3702a70c-eaf5-4854-8b91-8295874e86dc",
   "metadata": {},
   "outputs": [
    {
     "name": "stdout",
     "output_type": "stream",
     "text": [
      "Data Loaded and Split\n"
     ]
    }
   ],
   "source": [
    "# Cell 2: Loading and Preparing Data\n",
    "# Load dataset (California housing dataset)\n",
    "california = fetch_california_housing()\n",
    "X = pd.DataFrame(california.data, columns=california.feature_names)\n",
    "y = pd.Series(california.target)\n",
    "\n",
    "# Split the data into training and test sets\n",
    "X_train, X_test, y_train, y_test = train_test_split(X, y, test_size=0.2, random_state=42)\n",
    "\n",
    "print(\"Data Loaded and Split\")\n"
   ]
  },
  {
   "cell_type": "markdown",
   "id": "fcf0e013-ddb5-4bf7-977d-06ed18eb7681",
   "metadata": {},
   "source": [
    "## 3. Linear Regression\r\n",
    "We apply Linear Regression to the dataset and evaluate its performance using various metrics.\r\n"
   ]
  },
  {
   "cell_type": "code",
   "execution_count": 3,
   "id": "4fce7f68-551c-43a8-bb95-6408c3c838c4",
   "metadata": {},
   "outputs": [
    {
     "name": "stdout",
     "output_type": "stream",
     "text": [
      "Linear Regression Evaluation:\n",
      "Mean Absolute Error (MAE): 0.53\n",
      "Mean Squared Error (MSE): 0.56\n",
      "Root Mean Squared Error (RMSE): 0.75\n",
      "R-squared (R²): 0.58\n",
      "Median Absolute Error: 0.41\n"
     ]
    }
   ],
   "source": [
    "# Cell 3: Linear Regression\n",
    "# Apply Linear Regression\n",
    "lin_reg = LinearRegression()\n",
    "lin_reg.fit(X_train, y_train)\n",
    "\n",
    "# Predictions and evaluation\n",
    "y_pred = lin_reg.predict(X_test)\n",
    "mae = mean_absolute_error(y_test, y_pred)\n",
    "mse = mean_squared_error(y_test, y_pred)\n",
    "rmse = np.sqrt(mse)\n",
    "r2 = r2_score(y_test, y_pred)\n",
    "median_ae = median_absolute_error(y_test, y_pred)\n",
    "\n",
    "print(\"Linear Regression Evaluation:\")\n",
    "print(f\"Mean Absolute Error (MAE): {mae:.2f}\")\n",
    "print(f\"Mean Squared Error (MSE): {mse:.2f}\")\n",
    "print(f\"Root Mean Squared Error (RMSE): {rmse:.2f}\")\n",
    "print(f\"R-squared (R²): {r2:.2f}\")\n",
    "print(f\"Median Absolute Error: {median_ae:.2f}\")\n"
   ]
  },
  {
   "cell_type": "markdown",
   "id": "7b6a1174-4630-4f5e-8acd-93b9853a6b8b",
   "metadata": {},
   "source": [
    "## 4. Ridge Regression\r\n",
    "Next, we apply Ridge Regression and evaluate its performance.\r\n"
   ]
  },
  {
   "cell_type": "code",
   "execution_count": 4,
   "id": "c854b1e4-9df4-4e94-af44-c3728559bdd3",
   "metadata": {},
   "outputs": [
    {
     "name": "stdout",
     "output_type": "stream",
     "text": [
      "Ridge Regression Evaluation:\n",
      "Mean Absolute Error (MAE): 0.53\n",
      "Mean Squared Error (MSE): 0.56\n",
      "Root Mean Squared Error (RMSE): 0.75\n",
      "R-squared (R²): 0.58\n",
      "Median Absolute Error: 0.41\n"
     ]
    }
   ],
   "source": [
    "# Cell 4: Ridge Regression\n",
    "# Apply Ridge Regression\n",
    "ridge_reg = Ridge(alpha=1.0)\n",
    "ridge_reg.fit(X_train, y_train)\n",
    "\n",
    "# Predictions and evaluation\n",
    "y_pred_ridge = ridge_reg.predict(X_test)\n",
    "mae_ridge = mean_absolute_error(y_test, y_pred_ridge)\n",
    "mse_ridge = mean_squared_error(y_test, y_pred_ridge)\n",
    "rmse_ridge = np.sqrt(mse_ridge)\n",
    "r2_ridge = r2_score(y_test, y_pred_ridge)\n",
    "median_ae_ridge = median_absolute_error(y_test, y_pred_ridge)\n",
    "\n",
    "print(\"Ridge Regression Evaluation:\")\n",
    "print(f\"Mean Absolute Error (MAE): {mae_ridge:.2f}\")\n",
    "print(f\"Mean Squared Error (MSE): {mse_ridge:.2f}\")\n",
    "print(f\"Root Mean Squared Error (RMSE): {rmse_ridge:.2f}\")\n",
    "print(f\"R-squared (R²): {r2_ridge:.2f}\")\n",
    "print(f\"Median Absolute Error: {median_ae_ridge:.2f}\")\n"
   ]
  },
  {
   "cell_type": "markdown",
   "id": "dd4f019a-3f31-4a71-a7b4-ff50f75cd0a1",
   "metadata": {},
   "source": [
    "## 5. Lasso Regression\r\n",
    "We then apply Lasso Regression and evaluate its performance.\r\n"
   ]
  },
  {
   "cell_type": "code",
   "execution_count": 5,
   "id": "35524071-f478-4e7a-ac9c-6e6853ad0854",
   "metadata": {},
   "outputs": [
    {
     "name": "stdout",
     "output_type": "stream",
     "text": [
      "Lasso Regression Evaluation:\n",
      "Mean Absolute Error (MAE): 0.58\n",
      "Mean Squared Error (MSE): 0.61\n",
      "Root Mean Squared Error (RMSE): 0.78\n",
      "R-squared (R²): 0.53\n",
      "Median Absolute Error: 0.46\n"
     ]
    }
   ],
   "source": [
    "# Cell 5: Lasso Regression\n",
    "# Apply Lasso Regression\n",
    "lasso_reg = Lasso(alpha=0.1)\n",
    "lasso_reg.fit(X_train, y_train)\n",
    "\n",
    "# Predictions and evaluation\n",
    "y_pred_lasso = lasso_reg.predict(X_test)\n",
    "mae_lasso = mean_absolute_error(y_test, y_pred_lasso)\n",
    "mse_lasso = mean_squared_error(y_test, y_pred_lasso)\n",
    "rmse_lasso = np.sqrt(mse_lasso)\n",
    "r2_lasso = r2_score(y_test, y_pred_lasso)\n",
    "median_ae_lasso = median_absolute_error(y_test, y_pred_lasso)\n",
    "\n",
    "print(\"Lasso Regression Evaluation:\")\n",
    "print(f\"Mean Absolute Error (MAE): {mae_lasso:.2f}\")\n",
    "print(f\"Mean Squared Error (MSE): {mse_lasso:.2f}\")\n",
    "print(f\"Root Mean Squared Error (RMSE): {rmse_lasso:.2f}\")\n",
    "print(f\"R-squared (R²): {r2_lasso:.2f}\")\n",
    "print(f\"Median Absolute Error: {median_ae_lasso:.2f}\")\n"
   ]
  },
  {
   "cell_type": "code",
   "execution_count": null,
   "id": "5f1ca6bb-786f-44cf-a81c-dd78eb7db728",
   "metadata": {},
   "outputs": [],
   "source": []
  }
 ],
 "metadata": {
  "kernelspec": {
   "display_name": "Python 3 (ipykernel)",
   "language": "python",
   "name": "python3"
  },
  "language_info": {
   "codemirror_mode": {
    "name": "ipython",
    "version": 3
   },
   "file_extension": ".py",
   "mimetype": "text/x-python",
   "name": "python",
   "nbconvert_exporter": "python",
   "pygments_lexer": "ipython3",
   "version": "3.11.7"
  }
 },
 "nbformat": 4,
 "nbformat_minor": 5
}
