{
 "cells": [
  {
   "cell_type": "markdown",
   "id": "4f1fe659-92b0-46a3-99c9-f0f3244dad53",
   "metadata": {},
   "source": [
    "There are differet ways you can make your text(markdown)look fancy in noteboook. I'll show 1 by 1 by differnet examples"
   ]
  },
  {
   "cell_type": "markdown",
   "id": "37720c9f-0599-4776-bf17-1387bca0921d",
   "metadata": {},
   "source": [
    "# Headings\n",
    "#is used for headings. # mean larger heading ## mean smaller ### mean even more smaller and so on"
   ]
  },
  {
   "cell_type": "markdown",
   "id": "210f1036-f267-4db9-9266-e9022fa44e34",
   "metadata": {},
   "source": [
    "# This is heading 1\n",
    "## This is heading 2\n",
    "### This is heading 3\n",
    "#### This is heading 4\n",
    "##### This is heading 5"
   ]
  },
  {
   "cell_type": "markdown",
   "id": "476f4a12-fcb5-4267-a2a5-7331d630d00a",
   "metadata": {},
   "source": [
    "# Text Styles\n",
    "bold (**bold text**), italic (*italic text*), and strikethrough (~~strikethrough~~) for emphasis where needed."
   ]
  },
  {
   "cell_type": "markdown",
   "id": "c54a297f-349f-469e-913e-b4ecaf62cdd0",
   "metadata": {},
   "source": [
    "### Text Styles Example\n",
    "\n",
    "**Bold Text**: Use double asterisks or double underscores for bold text.\n",
    "*Italic Text*: Use single asterisks or single underscores for italic text.\n",
    "~~Strikethrough Text~~: Use double tilde symbols for strikethrough text.\n",
    "\n",
    "### Mixed Styles Example\n",
    "\n",
    "You can combine styles for emphasis:\n",
    "- This is **bold** and *italic*.\n",
    "- ~~This is both bold and strikethrough~~.\n"
   ]
  },
  {
   "cell_type": "markdown",
   "id": "42c1d8ab-6e07-49d1-8043-73420fc4421e",
   "metadata": {},
   "source": [
    "# Lists\n",
    "both ordered (1. Item 1, 2. Item 2) and unordered lists (- Item, - Item) to organize information clearly."
   ]
  },
  {
   "cell_type": "markdown",
   "id": "6b5bbf72-677c-49df-ba8d-cd23e7e6dcd3",
   "metadata": {},
   "source": [
    " \n",
    "#### Ordered List\n",
    "1. First item\n",
    "2. Second item\n",
    "3. Third item\n",
    "\n",
    "#### Unordered List\n",
    "- Bullet point 1\n",
    "- Bullet point 2\n",
    "  - Sub-bullet point A\n",
    "  - Sub-bullet point B\n",
    "- Bullet point 3\n"
   ]
  },
  {
   "cell_type": "markdown",
   "id": "a5f8522e-1e11-4223-9265-a044556c2fb0",
   "metadata": {},
   "source": [
    "# Tables\n",
    "Markdown allows you to create tables using simple syntax. For example:"
   ]
  },
  {
   "cell_type": "markdown",
   "id": "362ee7c7-1a2c-4584-b308-9c2c686ea8fc",
   "metadata": {},
   "source": [
    " | Name      | Age | Location |\r\n",
    "|-----------|-----|----------|\r\n",
    "| iman noor | 21  | Heaven   |\r\n",
    "| Emama     | 19  | Hell     |\r\n"
   ]
  },
  {
   "cell_type": "code",
   "execution_count": null,
   "id": "52d8ba65-52ad-46dc-8079-e1669e7d0ed0",
   "metadata": {},
   "outputs": [],
   "source": []
  }
 ],
 "metadata": {
  "kernelspec": {
   "display_name": "Python 3 (ipykernel)",
   "language": "python",
   "name": "python3"
  },
  "language_info": {
   "codemirror_mode": {
    "name": "ipython",
    "version": 3
   },
   "file_extension": ".py",
   "mimetype": "text/x-python",
   "name": "python",
   "nbconvert_exporter": "python",
   "pygments_lexer": "ipython3",
   "version": "3.11.7"
  }
 },
 "nbformat": 4,
 "nbformat_minor": 5
}
