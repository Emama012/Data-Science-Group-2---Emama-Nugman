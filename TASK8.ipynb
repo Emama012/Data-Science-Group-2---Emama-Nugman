{
 "cells": [
  {
   "cell_type": "code",
   "execution_count": 4,
   "id": "3d7d5ece-ce84-4b76-b76b-3f49f18fc83a",
   "metadata": {},
   "outputs": [
    {
     "name": "stdout",
     "output_type": "stream",
     "text": [
      "Product 'Maybelline Mascara' added successfully with ID: MUP140710731236136\n",
      "Product 'Maybelline Foundation' added successfully with ID: MUP140710731236168\n",
      "Product 'Maybelline Lipstick' added successfully with ID: MUP140710731236200\n",
      "Product 'K-beauty Face Mask' added successfully with ID: MUP140710731236232\n",
      "Product 'K-beauty Eyeshadow Palette' added successfully with ID: MUP140710731236264\n",
      "Product 'K-beauty BB Cream' added successfully with ID: MUP140710731236296\n",
      "Product 'Maybelline Eyeliner' added successfully with ID: MUP140710731236328\n",
      "Product 'Maybelline Blush' added successfully with ID: MUP140710731236360\n",
      "Product 'K-beauty Lip Tint' added successfully with ID: MUP140710731236392\n",
      "Product 'K-beauty Highlighter' added successfully with ID: MUP140710731236424\n",
      "\n",
      "=== Makeup Inventory Management ===\n",
      "1. Add Product\n",
      "2. Delete Product\n",
      "3. Display All Products\n",
      "4. Update Stock\n",
      "5. Exit\n"
     ]
    },
    {
     "name": "stdin",
     "output_type": "stream",
     "text": [
      "Enter your choice:  3\n"
     ]
    },
    {
     "name": "stdout",
     "output_type": "stream",
     "text": [
      "\n",
      "All Products:\n",
      "ID: MUP140710731236136, Name: Maybelline Mascara, Category: Maybelline, Stock: 20\n",
      "ID: MUP140710731236168, Name: Maybelline Foundation, Category: Maybelline, Stock: 15\n",
      "ID: MUP140710731236200, Name: Maybelline Lipstick, Category: Maybelline, Stock: 25\n",
      "ID: MUP140710731236232, Name: K-beauty Face Mask, Category: K-beauty, Stock: 30\n",
      "ID: MUP140710731236264, Name: K-beauty Eyeshadow Palette, Category: K-beauty, Stock: 10\n",
      "ID: MUP140710731236296, Name: K-beauty BB Cream, Category: K-beauty, Stock: 25\n",
      "ID: MUP140710731236328, Name: Maybelline Eyeliner, Category: Maybelline, Stock: 18\n",
      "ID: MUP140710731236360, Name: Maybelline Blush, Category: Maybelline, Stock: 22\n",
      "ID: MUP140710731236392, Name: K-beauty Lip Tint, Category: K-beauty, Stock: 15\n",
      "ID: MUP140710731236424, Name: K-beauty Highlighter, Category: K-beauty, Stock: 12\n",
      "\n",
      "=== Makeup Inventory Management ===\n",
      "1. Add Product\n",
      "2. Delete Product\n",
      "3. Display All Products\n",
      "4. Update Stock\n",
      "5. Exit\n"
     ]
    },
    {
     "name": "stdin",
     "output_type": "stream",
     "text": [
      "Enter your choice:  4\n",
      "Enter product ID to update stock:  MUP1407107312361356\n",
      "Enter quantity to add/remove (use negative for removal):  10\n"
     ]
    },
    {
     "name": "stdout",
     "output_type": "stream",
     "text": [
      "Product with ID 'MUP1407107312361356' not found\n",
      "\n",
      "=== Makeup Inventory Management ===\n",
      "1. Add Product\n",
      "2. Delete Product\n",
      "3. Display All Products\n",
      "4. Update Stock\n",
      "5. Exit\n"
     ]
    },
    {
     "name": "stdin",
     "output_type": "stream",
     "text": [
      "Enter your choice:  1\n",
      "Enter product name:  K cream\n",
      "Enter product category:  Skincare\n",
      "Enter initial stock quantity:  29\n"
     ]
    },
    {
     "name": "stdout",
     "output_type": "stream",
     "text": [
      "Product 'K cream' added successfully with ID: MUP140710731236456\n",
      "\n",
      "=== Makeup Inventory Management ===\n",
      "1. Add Product\n",
      "2. Delete Product\n",
      "3. Display All Products\n",
      "4. Update Stock\n",
      "5. Exit\n"
     ]
    },
    {
     "name": "stdin",
     "output_type": "stream",
     "text": [
      "Enter your choice:  3\n"
     ]
    },
    {
     "name": "stdout",
     "output_type": "stream",
     "text": [
      "\n",
      "All Products:\n",
      "ID: MUP140710731236136, Name: Maybelline Mascara, Category: Maybelline, Stock: 20\n",
      "ID: MUP140710731236168, Name: Maybelline Foundation, Category: Maybelline, Stock: 15\n",
      "ID: MUP140710731236200, Name: Maybelline Lipstick, Category: Maybelline, Stock: 25\n",
      "ID: MUP140710731236232, Name: K-beauty Face Mask, Category: K-beauty, Stock: 30\n",
      "ID: MUP140710731236264, Name: K-beauty Eyeshadow Palette, Category: K-beauty, Stock: 10\n",
      "ID: MUP140710731236296, Name: K-beauty BB Cream, Category: K-beauty, Stock: 25\n",
      "ID: MUP140710731236328, Name: Maybelline Eyeliner, Category: Maybelline, Stock: 18\n",
      "ID: MUP140710731236360, Name: Maybelline Blush, Category: Maybelline, Stock: 22\n",
      "ID: MUP140710731236392, Name: K-beauty Lip Tint, Category: K-beauty, Stock: 15\n",
      "ID: MUP140710731236424, Name: K-beauty Highlighter, Category: K-beauty, Stock: 12\n",
      "ID: MUP140710731236456, Name: K cream, Category: Skincare, Stock: 29\n",
      "\n",
      "=== Makeup Inventory Management ===\n",
      "1. Add Product\n",
      "2. Delete Product\n",
      "3. Display All Products\n",
      "4. Update Stock\n",
      "5. Exit\n"
     ]
    },
    {
     "name": "stdin",
     "output_type": "stream",
     "text": [
      "Enter your choice:  5\n"
     ]
    },
    {
     "name": "stdout",
     "output_type": "stream",
     "text": [
      "Terminating\n"
     ]
    }
   ],
   "source": [
    "class MakeupInventory:\n",
    "    def __init__(self):\n",
    "        self.products = {}\n",
    "        self.product_id_counter = 1\n",
    "\n",
    "    def add_product(self, name, category, stock):\n",
    "        product_id = f'MUP{id(self.product_id_counter):04}'\n",
    "        self.products[product_id] = {'name': name, 'category': category, 'stock': stock}\n",
    "        self.product_id_counter += 1\n",
    "        print(f\"Product '{name}' added successfully with ID: {product_id}\")\n",
    "\n",
    "    def delete_product(self, product_id):\n",
    "        if product_id in self.products:\n",
    "            del self.products[product_id]\n",
    "            print(f\"Product with ID '{product_id}' deleted successfully\")\n",
    "        else:\n",
    "            print(f\"Product with ID '{product_id}' not found\")\n",
    "\n",
    "    def display_all_products(self):\n",
    "        if not self.products:\n",
    "            print(\"No products found in inventory\")\n",
    "        else:\n",
    "            print(\"\\nAll Products:\")\n",
    "            for product_id, product in self.products.items():\n",
    "                print(f\"ID: {product_id}, Name: {product['name']}, Category: {product['category']}, Stock: {product['stock']}\")\n",
    "\n",
    "    def update_stock(self, product_id, quantity):\n",
    "        if product_id in self.products:\n",
    "            self.products[product_id]['stock'] += quantity\n",
    "            print(f\"Stock updated for product ID '{product_id}'. New stock: {self.products[product_id]['stock']}\")\n",
    "        else:\n",
    "            print(f\"Product with ID '{product_id}' not found\")\n",
    "\n",
    "def main_menu():\n",
    "    inventory = MakeupInventory()\n",
    "\n",
    " \n",
    "    initial_products = [\n",
    "        (\"Maybelline Mascara\", \"Maybelline\", 20),\n",
    "        (\"Maybelline Foundation\", \"Maybelline\", 15),\n",
    "        (\"Maybelline Lipstick\", \"Maybelline\", 25),\n",
    "        (\"K-beauty Face Mask\", \"K-beauty\", 30),\n",
    "        (\"K-beauty Eyeshadow Palette\", \"K-beauty\", 10),\n",
    "        (\"K-beauty BB Cream\", \"K-beauty\", 25),\n",
    "        (\"Maybelline Eyeliner\", \"Maybelline\", 18),\n",
    "        (\"Maybelline Blush\", \"Maybelline\", 22),\n",
    "        (\"K-beauty Lip Tint\", \"K-beauty\", 15),\n",
    "        (\"K-beauty Highlighter\", \"K-beauty\", 12)\n",
    "    ]\n",
    "\n",
    "    \n",
    "    for name, category, stock in initial_products:\n",
    "        inventory.add_product(name, category, stock)\n",
    "\n",
    "    while True:\n",
    "        print(\"\\n=== Makeup Inventory Management ===\")\n",
    "        print(\"1. Add Product\")\n",
    "        print(\"2. Delete Product\")\n",
    "        print(\"3. Display All Products\")\n",
    "        print(\"4. Update Stock\")\n",
    "        print(\"5. Exit\")\n",
    "\n",
    "        choice = input(\"Enter your choice: \")\n",
    "\n",
    "        if choice == '1':\n",
    "            name = input(\"Enter product name: \")\n",
    "            category = input(\"Enter product category: \")\n",
    "            stock = int(input(\"Enter initial stock quantity: \"))\n",
    "            inventory.add_product(name, category, stock)\n",
    "\n",
    "        elif choice == '2':\n",
    "            product_id = input(\"Enter product ID to delete: \")\n",
    "            inventory.delete_product(product_id)\n",
    "\n",
    "        elif choice == '3':\n",
    "            inventory.display_all_products()\n",
    "\n",
    "        elif choice == '4':\n",
    "            product_id = input(\"Enter product ID to update stock: \")\n",
    "            quantity = int(input(\"Enter quantity to add/remove (use negative for removal): \"))\n",
    "            inventory.update_stock(product_id, quantity)\n",
    "\n",
    "        elif choice == '5':\n",
    "            print(\"Terminating\")\n",
    "            break\n",
    "\n",
    "        else:\n",
    "            print(\"Invalid choice. Please try again.\")\n",
    "\n",
    "main_menu()\n"
   ]
  },
  {
   "cell_type": "code",
   "execution_count": null,
   "id": "e8a63185-fb83-463e-b64a-4ad65f6f973b",
   "metadata": {},
   "outputs": [],
   "source": []
  }
 ],
 "metadata": {
  "kernelspec": {
   "display_name": "Python 3 (ipykernel)",
   "language": "python",
   "name": "python3"
  },
  "language_info": {
   "codemirror_mode": {
    "name": "ipython",
    "version": 3
   },
   "file_extension": ".py",
   "mimetype": "text/x-python",
   "name": "python",
   "nbconvert_exporter": "python",
   "pygments_lexer": "ipython3",
   "version": "3.11.7"
  }
 },
 "nbformat": 4,
 "nbformat_minor": 5
}
