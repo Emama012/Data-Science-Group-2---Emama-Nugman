{
 "cells": [
  {
   "cell_type": "markdown",
   "id": "0209efd0-3397-403d-a6af-86441a325c4d",
   "metadata": {},
   "source": [
    "# If-Else Statements in Python\r\n",
    "\r\n",
    "If-else statements are used to control the flow of execution based on conditions.\r\n",
    "\r\n",
    "## Syntax:\r\n",
    "\r\n",
    "```python\r\n",
    "if condition:\r\n",
    "    # Execute this block if condition is True\r\n",
    "    statement(s)\r\n",
    "else:\r\n",
    "    # Execute this block if condition is False\r\n",
    "    statement(s)\r\n",
    "atement(s)\r\n"
   ]
  },
  {
   "cell_type": "code",
   "execution_count": 1,
   "id": "0b397890-e387-496f-888b-bb1fd8e6e5f7",
   "metadata": {},
   "outputs": [
    {
     "name": "stdout",
     "output_type": "stream",
     "text": [
      "15 is odd.\n"
     ]
    }
   ],
   "source": [
    "num = 15\n",
    "\n",
    "if num % 2 == 0:\n",
    "    print(f\"{num} is even.\")\n",
    "else:\n",
    "    print(f\"{num} is odd.\")\n"
   ]
  },
  {
   "cell_type": "markdown",
   "id": "5463761a-9d09-41ad-b67a-f0c6f19b3a81",
   "metadata": {},
   "source": [
    "## Grade Calculator"
   ]
  },
  {
   "cell_type": "code",
   "execution_count": 2,
   "id": "ec5587fc-e331-4ef8-84cc-8ae33aea3484",
   "metadata": {},
   "outputs": [
    {
     "name": "stdout",
     "output_type": "stream",
     "text": [
      "Score: 85, Grade: B\n"
     ]
    }
   ],
   "source": [
    " score = 85\n",
    "\n",
    "if score >= 90:\n",
    "    grade = 'A'\n",
    "elif score >= 80:\n",
    "    grade = 'B'\n",
    "elif score >= 70:\n",
    "    grade = 'C'\n",
    "elif score >= 60:\n",
    "    grade = 'D'\n",
    "else:\n",
    "    grade = 'F'\n",
    "\n",
    "print(f\"Score: {score}, Grade: {grade}\")\n"
   ]
  },
  {
   "cell_type": "markdown",
   "id": "3aab8290-4325-439c-8034-59b0606da032",
   "metadata": {},
   "source": [
    "# While Loops in Python\n",
    "While loops are used to execute a block of code repeatedly as long as a specified condition is true.\n",
    "## Syntax\n",
    "```python\n",
    "while condition:\r\n",
    "    # Execute this block of code\r\n",
    "    statement(s)\r\n"
   ]
  },
  {
   "cell_type": "markdown",
   "id": "f6f95f3d-cea9-46ee-8be2-97a8c4cd04e7",
   "metadata": {},
   "source": [
    "## Countdown using while loops"
   ]
  },
  {
   "cell_type": "code",
   "execution_count": 4,
   "id": "df2fd172-4efa-4fd3-b6e4-5caa974b3cc9",
   "metadata": {},
   "outputs": [
    {
     "name": "stdout",
     "output_type": "stream",
     "text": [
      "10\n",
      "9\n",
      "8\n",
      "7\n",
      "6\n",
      "5\n",
      "4\n",
      "3\n",
      "2\n",
      "1\n"
     ]
    }
   ],
   "source": [
    "\n",
    "count = 10\n",
    "\n",
    "while count > 0:\n",
    "    print(count)\n",
    "    count -= 1\n"
   ]
  },
  {
   "cell_type": "markdown",
   "id": "b423e8ab-64f1-45a1-b91b-4c3b08d01924",
   "metadata": {},
   "source": [
    "# For Loops in Python\n",
    "For loops are used to iterate over a sequence (such as a list, tuple, string, etc.) or an iterable object.\n",
    "## Syntax\n",
    "```python\n",
    "for item in iterable:\r\n",
    "    # Execute this block of code\r\n",
    "    statement(s)\r\n",
    "\n"
   ]
  },
  {
   "cell_type": "code",
   "execution_count": 5,
   "id": "abd537df-5086-420b-a440-a0eaaa007aee",
   "metadata": {},
   "outputs": [
    {
     "name": "stdout",
     "output_type": "stream",
     "text": [
      "apple\n",
      "banana\n",
      "cherry\n"
     ]
    }
   ],
   "source": [
    "fruits = [\"apple\", \"banana\", \"cherry\"]\n",
    "\n",
    "for fruit in fruits:\n",
    "    print(fruit)\n"
   ]
  },
  {
   "cell_type": "markdown",
   "id": "b8ead692-f6c1-4651-8856-c4d62248df2b",
   "metadata": {},
   "source": [
    "# Printing different Patterns using loops"
   ]
  },
  {
   "cell_type": "code",
   "execution_count": 6,
   "id": "9356cf48-91df-4a30-8bb3-108b3bb18564",
   "metadata": {},
   "outputs": [
    {
     "name": "stdout",
     "output_type": "stream",
     "text": [
      "* \n",
      "* * \n",
      "* * * \n",
      "* * * * \n",
      "* * * * * \n"
     ]
    }
   ],
   "source": [
    "rows = 5\n",
    "\n",
    "for i in range(1, rows + 1):\n",
    "    for j in range(1, i + 1):\n",
    "        print(\"*\", end=\" \")\n",
    "    print()"
   ]
  },
  {
   "cell_type": "code",
   "execution_count": 7,
   "id": "48a9d6c5-c85f-47b4-b242-9f302171974a",
   "metadata": {},
   "outputs": [
    {
     "name": "stdout",
     "output_type": "stream",
     "text": [
      "* * * * * \n",
      "* * * * \n",
      "* * * \n",
      "* * \n",
      "* \n"
     ]
    }
   ],
   "source": [
    "rows = 5\n",
    "\n",
    "for i in range(rows, 0, -1):\n",
    "    for j in range(1, i + 1):\n",
    "        print(\"*\", end=\" \")\n",
    "    print()"
   ]
  },
  {
   "cell_type": "code",
   "execution_count": 8,
   "id": "bee20449-cc1e-4090-bb88-b1c8cabb6860",
   "metadata": {},
   "outputs": [
    {
     "name": "stdout",
     "output_type": "stream",
     "text": [
      "    *\n",
      "   ***\n",
      "  *****\n",
      " *******\n",
      "*********\n"
     ]
    }
   ],
   "source": [
    "rows = 5\n",
    "\n",
    "for i in range(1, rows + 1):\n",
    "    \n",
    "    for j in range(rows - i):\n",
    "        print(\" \", end=\"\")\n",
    "     \n",
    "    for k in range(2 * i - 1):\n",
    "        print(\"*\", end=\"\")\n",
    "    \n",
    "    print()"
   ]
  },
  {
   "cell_type": "code",
   "execution_count": 9,
   "id": "13c61117-b10e-4392-9b87-db5d28dc83e3",
   "metadata": {},
   "outputs": [
    {
     "name": "stdout",
     "output_type": "stream",
     "text": [
      "* * * * * * * * * * \n",
      "*                 * \n",
      "*                 * \n",
      "*                 * \n",
      "* * * * * * * * * * \n"
     ]
    }
   ],
   "source": [
    "rows = 5\n",
    "cols = 10\n",
    "\n",
    "for i in range(1, rows + 1):\n",
    "    for j in range(1, cols + 1):\n",
    "        if i == 1 or i == rows or j == 1 or j == cols:\n",
    "            print(\"*\", end=\" \")\n",
    "        else:\n",
    "            print(\" \", end=\" \")\n",
    "    print()\n"
   ]
  },
  {
   "cell_type": "markdown",
   "id": "08bd9efd-fe13-4329-861c-f4e4ec952e04",
   "metadata": {},
   "source": [
    "# Functions in Python\n",
    "Functions in Python are reusable blocks of code that perform a specific task. They help in organizing code into manageable pieces and promoting code reusability.\n",
    "## Syntax\n",
    "```python\n",
    " def function_name(parameters):\r\n",
    "    \"\"\"\r\n",
    "    Docstring: Optional description of the function\r\n",
    "    \"\"\"\r\n",
    "    # Function body: code that defines what the function does\r\n",
    "    statement(s)\r\n",
    "    return expression  # Optional return statement\r\n"
   ]
  },
  {
   "cell_type": "markdown",
   "id": "38517694-fc0a-4082-9ce8-1f3505623f01",
   "metadata": {},
   "source": [
    "## Function to calculate functions"
   ]
  },
  {
   "cell_type": "code",
   "execution_count": 10,
   "id": "b1334410-1bf6-4abf-9c26-f248fe30854c",
   "metadata": {},
   "outputs": [
    {
     "name": "stdout",
     "output_type": "stream",
     "text": [
      "The factorial of 5 is 120\n"
     ]
    }
   ],
   "source": [
    "def factorial(n):\n",
    "    \"\"\"\n",
    "    Calculate the factorial of a number n.\n",
    "    \"\"\"\n",
    "    result = 1\n",
    "    for i in range(1, n + 1):\n",
    "        result *= i\n",
    "    return result\n",
    " \n",
    "number = 5\n",
    "fact = factorial(number)\n",
    "print(f\"The factorial of {number} is {fact}\")\n"
   ]
  },
  {
   "cell_type": "markdown",
   "id": "c17fb090-d0b9-4bbc-8fdb-a1958a08adbe",
   "metadata": {},
   "source": [
    "# Table generator using function and loops"
   ]
  },
  {
   "cell_type": "code",
   "execution_count": null,
   "id": "121d65dd-299a-4cc4-a782-51d32a7a1c97",
   "metadata": {},
   "outputs": [
    {
     "name": "stdin",
     "output_type": "stream",
     "text": [
      "Enter a number (0 to exit):  4\n"
     ]
    },
    {
     "name": "stdout",
     "output_type": "stream",
     "text": [
      "Multiplication Table for 4:\n",
      "4 x 1 = 4\n",
      "4 x 2 = 8\n",
      "4 x 3 = 12\n",
      "4 x 4 = 16\n",
      "4 x 5 = 20\n",
      "4 x 6 = 24\n",
      "4 x 7 = 28\n",
      "4 x 8 = 32\n",
      "4 x 9 = 36\n",
      "4 x 10 = 40\n"
     ]
    }
   ],
   "source": [
    "def multiplication_table(num):\n",
    "    print(f\"Multiplication Table for {num}:\")\n",
    "    for i in range(1, 11):  \n",
    "        print(f\"{num} x {i} = {num * i}\")\n",
    "\n",
    "# Get user input\n",
    "while True:\n",
    "    try:\n",
    "        num = int(input(\"Enter a number (0 to exit): \"))\n",
    "        if num == 0:\n",
    "            print(\"Exiting the program.\")\n",
    "            break\n",
    "        multiplication_table(num)\n",
    "    except ValueError:\n",
    "        print(\"Please enter a valid number.\")\n"
   ]
  },
  {
   "cell_type": "code",
   "execution_count": null,
   "id": "d2bf32b8-7b13-469b-b1ed-af6d9ac64ac6",
   "metadata": {},
   "outputs": [],
   "source": []
  }
 ],
 "metadata": {
  "kernelspec": {
   "display_name": "Python 3 (ipykernel)",
   "language": "python",
   "name": "python3"
  },
  "language_info": {
   "codemirror_mode": {
    "name": "ipython",
    "version": 3
   },
   "file_extension": ".py",
   "mimetype": "text/x-python",
   "name": "python",
   "nbconvert_exporter": "python",
   "pygments_lexer": "ipython3",
   "version": "3.11.7"
  }
 },
 "nbformat": 4,
 "nbformat_minor": 5
}
