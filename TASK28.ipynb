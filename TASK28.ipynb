{
 "cells": [
  {
   "cell_type": "markdown",
   "id": "37b5393d-4b95-48fd-a78c-26e02ba362c7",
   "metadata": {},
   "source": [
    "# Task 28: Exploring Cross-Validation, Overfitting, and Underfitting\n",
    "\n",
    "In this notebook, we will explore the concepts of cross-validation, overfitting, and underfitting. We'll use a sample dataset and various models to illustrate these concepts.\n",
    "\n",
    "## 1. Import Libraries\n",
    "Let's start by importing the necessary libraries.\n"
   ]
  },
  {
   "cell_type": "code",
   "execution_count": 3,
   "id": "a2fa21c2-7d2c-4f78-9ad1-1907c0b47d86",
   "metadata": {},
   "outputs": [],
   "source": [
    "import numpy as np\n",
    "import pandas as pd\n",
    "import matplotlib.pyplot as plt\n",
    "from sklearn.datasets import load_iris\n",
    "from sklearn.model_selection import train_test_split, cross_val_score, KFold\n",
    "from sklearn.preprocessing import StandardScaler\n",
    "from sklearn.linear_model import LogisticRegression\n",
    "from sklearn.tree import DecisionTreeClassifier\n",
    "from sklearn.ensemble import RandomForestClassifier\n",
    "from sklearn.metrics import accuracy_score\n"
   ]
  },
  {
   "cell_type": "markdown",
   "id": "3d0017d4-11b6-494d-b303-7fea69775899",
   "metadata": {},
   "source": [
    "## 2. Load and Prepare Data\r\n",
    "We'll use the Iris dataset for this analysis and prepare it for modeling.\r\n"
   ]
  },
  {
   "cell_type": "code",
   "execution_count": 4,
   "id": "f72076b9-8b5c-4d2e-962e-f3e49978e4f6",
   "metadata": {},
   "outputs": [
    {
     "name": "stdout",
     "output_type": "stream",
     "text": [
      "Data Loaded and Preprocessed\n"
     ]
    }
   ],
   "source": [
    "# Cell 2: Load and Prepare Data\n",
    "# Load the Iris dataset\n",
    "iris = load_iris()\n",
    "X = iris.data\n",
    "y = iris.target\n",
    "\n",
    "# Split the data into training and test sets\n",
    "X_train, X_test, y_train, y_test = train_test_split(X, y, test_size=0.3, random_state=42)\n",
    "\n",
    "# Feature scaling\n",
    "scaler = StandardScaler()\n",
    "X_train = scaler.fit_transform(X_train)\n",
    "X_test = scaler.transform(X_test)\n",
    "\n",
    "print(\"Data Loaded and Preprocessed\")\n"
   ]
  },
  {
   "cell_type": "markdown",
   "id": "eeabff3c-fa16-4dfa-8aca-51d46a7aef26",
   "metadata": {},
   "source": [
    "## 3. Cross-Validation\r\n",
    "We'll perform cross-validation to evaluate the performance of different models.\r\n"
   ]
  },
  {
   "cell_type": "code",
   "execution_count": 5,
   "id": "727429a3-493b-45fe-890d-5fd10121facb",
   "metadata": {},
   "outputs": [
    {
     "name": "stdout",
     "output_type": "stream",
     "text": [
      "Logistic Regression Cross-Validation Accuracy: 0.97 ± 0.04\n",
      "Decision Tree Cross-Validation Accuracy: 0.95 ± 0.05\n",
      "Random Forest Cross-Validation Accuracy: 0.96 ± 0.05\n",
      "Cross-Validation Completed\n"
     ]
    }
   ],
   "source": [
    "# Define models\n",
    "models = {\n",
    "    'Logistic Regression': LogisticRegression(max_iter=200),\n",
    "    'Decision Tree': DecisionTreeClassifier(),\n",
    "    'Random Forest': RandomForestClassifier(n_estimators=100)\n",
    "}\n",
    "\n",
    "# Perform cross-validation\n",
    "cv_results = {}\n",
    "for name, model in models.items():\n",
    "    kfold = KFold(n_splits=10, shuffle=True, random_state=42)\n",
    "    scores = cross_val_score(model, X, y, cv=kfold, scoring='accuracy')\n",
    "    cv_results[name] = scores\n",
    "    print(f\"{name} Cross-Validation Accuracy: {scores.mean():.2f} ± {scores.std():.2f}\")\n",
    "\n",
    "print(\"Cross-Validation Completed\")"
   ]
  },
  {
   "cell_type": "markdown",
   "id": "da4687da-6ff3-4683-b9a4-5751e8b36ed9",
   "metadata": {},
   "source": [
    "## 4. Overfitting and Underfitting\r\n",
    "To explore overfitting and underfitting, we'll train models with varying complexities and observe their performance on training and test data.\r\n"
   ]
  },
  {
   "cell_type": "code",
   "execution_count": null,
   "id": "8add4421-8311-4dc5-9fec-f14b5301295e",
   "metadata": {},
   "outputs": [
    {
     "name": "stdout",
     "output_type": "stream",
     "text": [
      "Evaluating Overfitting and Underfitting\n",
      "Logistic Regression - Train Accuracy: 0.96, Test Accuracy: 1.00\n"
     ]
    },
    {
     "data": {
      "image/png": "[encoded data removed]",
      "text/plain": [
       "<Figure size 800x600 with 1 Axes>"
      ]
     },
     "metadata": {},
     "output_type": "display_data"
    }
   ],
   "source": [
    "# Cell 4: Overfitting and Underfitting\n",
    "\n",
    "def plot_model_performance(model, model_name, X_train, y_train, X_test, y_test):\n",
    "    # Fit model\n",
    "    model.fit(X_train, y_train)\n",
    "    \n",
    "    # Predict on training and test data\n",
    "    train_preds = model.predict(X_train)\n",
    "    test_preds = model.predict(X_test)\n",
    "    \n",
    "    # Calculate accuracy\n",
    "    train_accuracy = accuracy_score(y_train, train_preds)\n",
    "    test_accuracy = accuracy_score(y_test, test_preds)\n",
    "    \n",
    "    print(f\"{model_name} - Train Accuracy: {train_accuracy:.2f}, Test Accuracy: {test_accuracy:.2f}\")\n",
    "    \n",
    "    # Plotting\n",
    "    plt.figure(figsize=(8, 6))\n",
    "    plt.plot([1, 2], [train_accuracy, test_accuracy], marker='o', label=model_name)\n",
    "    plt.xlabel('Data')\n",
    "    plt.ylabel('Accuracy')\n",
    "    plt.title(f'Performance of {model_name}')\n",
    "    plt.xticks([1, 2], ['Training Data', 'Test Data'])\n",
    "    plt.ylim([0, 1])\n",
    "    plt.legend()\n",
    "    plt.grid(True)\n",
    "    plt.show()\n",
    "\n",
    "# Train and evaluate models with different complexities\n",
    "print(\"Evaluating Overfitting and Underfitting\")\n",
    "\n",
    "# Simpler model (high bias, underfitting)\n",
    "simple_model = LogisticRegression(max_iter=200)\n",
    "plot_model_performance(simple_model, 'Logistic Regression', X_train, y_train, X_test, y_test)\n",
    "\n",
    "# More complex model (low bias, high variance, overfitting)\n",
    "complex_model = RandomForestClassifier(n_estimators=100)\n",
    "plot_model_performance(complex_model, 'Random Forest', X_train, y_train, X_test, y_test)\n"
   ]
  },
  {
   "cell_type": "code",
   "execution_count": null,
   "id": "09ceb079-3565-4a79-8922-d0d1a19ad08f",
   "metadata": {},
   "outputs": [],
   "source": []
  }
 ],
 "metadata": {
  "kernelspec": {
   "display_name": "Python 3 (ipykernel)",
   "language": "python",
   "name": "python3"
  },
  "language_info": {
   "codemirror_mode": {
    "name": "ipython",
    "version": 3
   },
   "file_extension": ".py",
   "mimetype": "text/x-python",
   "name": "python",
   "nbconvert_exporter": "python",
   "pygments_lexer": "ipython3",
   "version": "3.11.7"
  }
 },
 "nbformat": 4,
 "nbformat_minor": 5
}
