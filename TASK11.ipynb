{
 "cells": [
  {
   "cell_type": "markdown",
   "id": "445f7734-8364-4a1e-a129-3418e2ac021e",
   "metadata": {},
   "source": [
    "#### Task 1: Given a 2D array of shape (6, 6), extract a 2x2 sub-array starting from the element at position (1, 1)\n",
    " "
   ]
  },
  {
   "cell_type": "code",
   "execution_count": 10,
   "id": "72b6efa7-c2b7-4907-ae04-2af2a57be9a1",
   "metadata": {},
   "outputs": [
    {
     "name": "stdout",
     "output_type": "stream",
     "text": [
      "2D array:\n",
      " [[ 3 18  3  3 11 17]\n",
      " [12 20 19 16 10  3]\n",
      " [ 9 20 10  4  9 13]\n",
      " [17  8 13 16  8 19]\n",
      " [19  6  5 12 17 12]\n",
      " [ 1  4 17 10  4  8]]\n",
      "Extracted 2x2 sub-array:\n",
      " [[20 19]\n",
      " [20 10]]\n"
     ]
    }
   ],
   "source": [
    "import numpy as np\n",
    "\n",
    "array_2d_example = np.random.randint(1, 21, size=(6, 6))\n",
    "sub_array = array_2d_example[1:3, 1:3]\n",
    "print(\"2D array:\\n\", array_2d_example)\n",
    "print(\"Extracted 2x2 sub-array:\\n\", sub_array)"
   ]
  },
  {
   "cell_type": "markdown",
   "id": "6517badc-f80c-4c01-b047-d1f594792fc5",
   "metadata": {},
   "source": [
    "#### Task 2: From a 3D array of shape (3, 2, 1), extract all elements in the first two rows and all columns of the second slice along the third axisnts)\r\n"
   ]
  },
  {
   "cell_type": "code",
   "execution_count": 12,
   "id": "5d8f9f9b-2be2-498b-a54d-2f3dd3457816",
   "metadata": {},
   "outputs": [
    {
     "name": "stdout",
     "output_type": "stream",
     "text": [
      "3D array:\n",
      " [[[ 1]\n",
      "  [ 6]]\n",
      "\n",
      " [[13]\n",
      "  [ 9]]\n",
      "\n",
      " [[ 1]\n",
      "  [ 5]]]\n",
      "Extracted elements:\n",
      " [[ 1  6]\n",
      " [13  9]]\n"
     ]
    }
   ],
   "source": [
    " \n",
    "array_3d_example = np.random.randint(1, 21, size=(3, 2, 1))\n",
    "extracted_elements = array_3d_example[:2, :, 0]\n",
    "print(\"3D array:\\n\", array_3d_example)\n",
    "print(\"Extracted elements:\\n\", extracted_elements)\n"
   ]
  },
  {
   "cell_type": "markdown",
   "id": "9edf3c1c-120c-4439-a5df-26b4fc7d00f2",
   "metadata": {},
   "source": [
    "#### Task 3: Given an array of integers, use fancy indexing to extract elements at positions [1, 3, 4, 6]\r\n",
    "```pythonnts)\r\n"
   ]
  },
  {
   "cell_type": "code",
   "execution_count": 13,
   "id": "8299a17c-27ea-4a0f-8a9e-d3713a38bc1c",
   "metadata": {},
   "outputs": [
    {
     "name": "stdout",
     "output_type": "stream",
     "text": [
      "Array: [ 0 10 20 30 40 50 60 70]\n",
      "Elements at positions [1, 3, 4, 6]: [10 30 40 60]\n"
     ]
    }
   ],
   "source": [
    "array_ints = np.array([0, 10, 20, 30, 40, 50, 60, 70])\n",
    "fancy_indexed_elements = array_ints[[1, 3, 4, 6]]\n",
    "print(\"Array:\", array_ints)\n",
    "print(\"Elements at positions [1, 3, 4, 6]:\", fancy_indexed_elements)\n"
   ]
  },
  {
   "cell_type": "markdown",
   "id": "a0dd9111-0823-4bec-a488-c76585fef377",
   "metadata": {},
   "source": [
    "#### Task 4: Given a 2D array, use fancy indexing to select rows [0, 2, 2] and columns [1, 3]\r\n",
    "```pythonrray)\r\n"
   ]
  },
  {
   "cell_type": "code",
   "execution_count": 14,
   "id": "55c963a3-1ad9-4f8c-9970-a8ce9b6a1d74",
   "metadata": {},
   "outputs": [
    {
     "name": "stdout",
     "output_type": "stream",
     "text": [
      "2D array:\n",
      " [[17  6 11 16 11]\n",
      " [ 8 19  2 15  8]\n",
      " [17 19  5 13 13]\n",
      " [ 3 15 19 17  7]]\n",
      "Selected rows [0, 2, 2] and columns [1, 3]:\n",
      " [[ 6 16]\n",
      " [19 13]\n",
      " [19 13]]\n"
     ]
    }
   ],
   "source": [
    "array_2d_example = np.random.randint(1, 21, size=(4, 5))\n",
    "fancy_indexed_sub_array = array_2d_example[[0, 2, 2], :][:, [1, 3]]\n",
    "print(\"2D array:\\n\", array_2d_example)\n",
    "print(\"Selected rows [0, 2, 2] and columns [1, 3]:\\n\", fancy_indexed_sub_array)"
   ]
  },
  {
   "cell_type": "markdown",
   "id": "70a45b42-adf0-40db-ae64-fa4bdf93690d",
   "metadata": {},
   "source": [
    "#### Task 5: From a 1D array of random integers, extract all elements that are greater than 8\r\n",
    "```pythonan_8)\r\n"
   ]
  },
  {
   "cell_type": "code",
   "execution_count": 15,
   "id": "861ebd44-f595-45e6-bcbb-ad9da977e38f",
   "metadata": {},
   "outputs": [
    {
     "name": "stdout",
     "output_type": "stream",
     "text": [
      "1D array: [ 8 14  6 16 15  7 13 18  2 17]\n",
      "Elements greater than 8: [14 16 15 13 18 17]\n"
     ]
    }
   ],
   "source": [
    "array_1d_random = np.random.randint(1, 20, size=10)\n",
    "elements_greater_than_8 = array_1d_random[array_1d_random > 8]\n",
    "print(\"1D array:\", array_1d_random)\n",
    "print(\"Elements greater than 8:\", elements_greater_than_8)"
   ]
  },
  {
   "cell_type": "markdown",
   "id": "3bb43a3b-721f-49d3-8417-1b81bfd0a50e",
   "metadata": {},
   "source": [
    "#### Task 6: Given a 2D array of shape (6, 6), replace all elements greater than 13 with the value 0le)\r\n"
   ]
  },
  {
   "cell_type": "code",
   "execution_count": 17,
   "id": "9004c01b-99b5-4a6c-aae3-a4031646c276",
   "metadata": {},
   "outputs": [
    {
     "name": "stdout",
     "output_type": "stream",
     "text": [
      "Modified 2D array:\n",
      " [[ 2 10 11  8  0 12]\n",
      " [ 9  9 13 13  4  0]\n",
      " [13  3  0  0  0  1]\n",
      " [ 0  4  8  1  0 10]\n",
      " [ 5  0  0  7  6  3]\n",
      " [ 4 12 10  3  4 13]]\n"
     ]
    }
   ],
   "source": [
    "\n",
    "array_2d_example = np.random.randint(1, 21, size=(6, 6))\n",
    "array_2d_example[array_2d_example > 13] = 0\n",
    "print(\"Modified 2D array:\\n\", array_2d_example)"
   ]
  },
  {
   "cell_type": "markdown",
   "id": "a5d9f111-0af1-43af-98e1-8e808a4ec49e",
   "metadata": {},
   "source": [
    "# BroadCasting"
   ]
  },
  {
   "cell_type": "markdown",
   "id": "d1eefa46-4fe3-49a8-be9d-b6939ba74450",
   "metadata": {},
   "source": [
    "#### Task 1: Add a 1D array of shape (3,) to each row of a 2D array of shape (4, 3)\n",
    "```python\n",
    "\n"
   ]
  },
  {
   "cell_type": "code",
   "execution_count": 18,
   "id": "8d3bf225-ed11-4bb3-975e-1a8c030d79aa",
   "metadata": {},
   "outputs": [
    {
     "name": "stdout",
     "output_type": "stream",
     "text": [
      "1D array: [1 2 3]\n",
      "2D array:\n",
      " [[2 3 6]\n",
      " [1 1 2]\n",
      " [5 8 7]\n",
      " [5 1 4]]\n",
      "Result of broadcasting:\n",
      " [[ 3  5  9]\n",
      " [ 2  3  5]\n",
      " [ 6 10 10]\n",
      " [ 6  3  7]]\n"
     ]
    }
   ],
   "source": [
    "array_1d = np.array([1, 2, 3])\n",
    "array_2d = np.random.randint(1, 10, size=(4, 3))\n",
    "result = array_2d + array_1d\n",
    "print(\"1D array:\", array_1d)\n",
    "print(\"2D array:\\n\", array_2d)\n",
    "print(\"Result of broadcasting:\\n\", result)"
   ]
  },
  {
   "cell_type": "markdown",
   "id": "fd4798c3-64a0-4f8b-9e0c-626a7d0e5cd1",
   "metadata": {},
   "source": [
    "#### Task 2: Multiply a 2D array of shape (3, 3) by a 1D array of shape (3,)\r\n",
    "```pythonesult)\r\n"
   ]
  },
  {
   "cell_type": "code",
   "execution_count": 19,
   "id": "1827c931-20bf-4363-8b61-f9f1afbe8f5d",
   "metadata": {},
   "outputs": [
    {
     "name": "stdout",
     "output_type": "stream",
     "text": [
      "2D array:\n",
      " [[8 6 1]\n",
      " [6 2 7]\n",
      " [8 5 2]]\n",
      "1D array: [1 2 3]\n",
      "Result of broadcasting:\n",
      " [[ 8 12  3]\n",
      " [ 6  4 21]\n",
      " [ 8 10  6]]\n"
     ]
    }
   ],
   "source": [
    "array_2d = np.random.randint(1, 10, size=(3, 3))\n",
    "array_1d = np.array([1, 2, 3])\n",
    "result = array_2d * array_1d\n",
    "print(\"2D array:\\n\", array_2d)\n",
    "print(\"1D array:\", array_1d)\n",
    "print(\"Result of broadcasting:\\n\", result)\n"
   ]
  },
  {
   "cell_type": "markdown",
   "id": "10c303b9-2214-4d2b-aaa2-e5afee3eefd4",
   "metadata": {},
   "source": [
    "#### Task 3: Create two 2D arrays of shapes (3, 1) and (1, 4) respectively, and perform element-wise addition\r\n",
    "```pythonresult)\r\n"
   ]
  },
  {
   "cell_type": "code",
   "execution_count": 20,
   "id": "a769b0f7-69e6-4009-8756-b9e466fae27d",
   "metadata": {},
   "outputs": [
    {
     "name": "stdout",
     "output_type": "stream",
     "text": [
      "Array of shape (3, 1):\n",
      " [[4]\n",
      " [5]\n",
      " [7]]\n",
      "Array of shape (1, 4):\n",
      " [[9 5 4 6]]\n",
      "Result of broadcasting:\n",
      " [[13  9  8 10]\n",
      " [14 10  9 11]\n",
      " [16 12 11 13]]\n"
     ]
    }
   ],
   "source": [
    "array_2d_1 = np.random.randint(1, 10, size=(3, 1))\n",
    "array_2d_2 = np.random.randint(1, 10, size=(1, 4))\n",
    "result = array_2d_1 + array_2d_2\n",
    "print(\"Array of shape (3, 1):\\n\", array_2d_1)\n",
    "print(\"Array of shape (1, 4):\\n\", array_2d_2)\n",
    "print(\"Result of broadcasting:\\n\", result)"
   ]
  },
  {
   "cell_type": "markdown",
   "id": "cce90bf9-7981-4fb8-b96a-305f3c9b629a",
   "metadata": {},
   "source": [
    "#### Task 4: Given a 3D array of shape (2, 3, 4), add a 2D array of shape (3, 4) to each 2D slice along the first axis\n",
    "```python\n",
    "\n"
   ]
  },
  {
   "cell_type": "code",
   "execution_count": 22,
   "id": "aac2d277-fb85-4029-9b43-f0b4dbcf8613",
   "metadata": {},
   "outputs": [
    {
     "name": "stdout",
     "output_type": "stream",
     "text": [
      "3D array:\n",
      " [[[6 5 5 3]\n",
      "  [5 6 2 2]\n",
      "  [4 9 2 2]]\n",
      "\n",
      " [[2 8 7 6]\n",
      "  [8 4 5 3]\n",
      "  [4 1 8 9]]]\n",
      "2D array:\n",
      " [[8 4 4 7]\n",
      " [1 3 5 3]\n",
      " [2 5 8 7]]\n",
      "Result of broadcasting:\n",
      " [[[14  9  9 10]\n",
      "  [ 6  9  7  5]\n",
      "  [ 6 14 10  9]]\n",
      "\n",
      " [[10 12 11 13]\n",
      "  [ 9  7 10  6]\n",
      "  [ 6  6 16 16]]]\n"
     ]
    }
   ],
   "source": [
    "array_3d = np.random.randint(1, 10, size=(2, 3, 4))\n",
    "array_2d = np.random.randint(1, 10, size=(3, 4))\n",
    "result = array_3d + array_2d\n",
    "print(\"3D array:\\n\", array_3d)\n",
    "print(\"2D array:\\n\", array_2d)\n",
    "print(\"Result of broadcasting:\\n\", result)"
   ]
  },
  {
   "cell_type": "markdown",
   "id": "ea12250a-47a0-4fd8-abcc-82c694baa724",
   "metadata": {},
   "source": [
    "#### Task 5: Given a 2D array, use slicing to extract every second row and every second column, then add a 1D array to each row of the sliced array\n",
    "```python\n",
    "\n"
   ]
  },
  {
   "cell_type": "code",
   "execution_count": 23,
   "id": "9eca9f5b-76ae-4583-bfdc-84a40e38f4c3",
   "metadata": {},
   "outputs": [
    {
     "name": "stdout",
     "output_type": "stream",
     "text": [
      "Original 2D array:\n",
      " [[ 5 18 10 19 18 17]\n",
      " [ 3  4 11  6 13 17]\n",
      " [13 16 10  8 14  2]\n",
      " [16  8 18 16 13 13]\n",
      " [13  6 11  4  8  9]\n",
      " [ 3 19 16 16 17 18]]\n",
      "Sliced array (every second row and column):\n",
      " [[ 5 10 18]\n",
      " [13 10 14]\n",
      " [13 11  8]]\n",
      "1D array: [5 4 3]\n",
      "Result after adding 1D array to each row:\n",
      " [[10 14 21]\n",
      " [18 14 17]\n",
      " [18 15 11]]\n"
     ]
    }
   ],
   "source": [
    "array_2d = np.random.randint(1, 20, size=(6, 6))\n",
    "sliced_array = array_2d[::2, ::2]\n",
    "array_1d = np.random.randint(1, 10, size=(sliced_array.shape[1]))\n",
    "result = sliced_array + array_1d\n",
    "print(\"Original 2D array:\\n\", array_2d)\n",
    "print(\"Sliced array (every second row and column):\\n\", sliced_array)\n",
    "print(\"1D array:\", array_1d)\n",
    "print(\"Result after adding 1D array to each row:\\n\", result)"
   ]
  }
 ],
 "metadata": {
  "kernelspec": {
   "display_name": "Python 3 (ipykernel)",
   "language": "python",
   "name": "python3"
  },
  "language_info": {
   "codemirror_mode": {
    "name": "ipython",
    "version": 3
   },
   "file_extension": ".py",
   "mimetype": "text/x-python",
   "name": "python",
   "nbconvert_exporter": "python",
   "pygments_lexer": "ipython3",
   "version": "3.11.7"
  }
 },
 "nbformat": 4,
 "nbformat_minor": 5
}
