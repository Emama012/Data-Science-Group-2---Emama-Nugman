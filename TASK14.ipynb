{
 "cells": [
  {
   "cell_type": "code",
   "execution_count": 3,
   "id": "d5f2194f-9c51-4270-adb8-879c177e7c83",
   "metadata": {},
   "outputs": [
    {
     "name": "stdout",
     "output_type": "stream",
     "text": [
      "Missing values per column:\n",
      "Names                             0\n",
      "Age                               0\n",
      "Gender                            0\n",
      "Mobile Phone                      0\n",
      "Mobile Operating System           0\n",
      "Mobile phone use for education    2\n",
      "Mobile phone activities           1\n",
      "Helpful for studying              2\n",
      "Educational Apps                  2\n",
      "Daily usages                      1\n",
      "Performance impact                2\n",
      "Usage distraction                 2\n",
      "Attention span                    1\n",
      "Useful features                   2\n",
      "Health Risks                      2\n",
      "Beneficial subject                1\n",
      "Usage symptoms                    2\n",
      "Symptom frequency                 1\n",
      "Health precautions                1\n",
      "Health rating                     1\n",
      "dtype: int64\n"
     ]
    }
   ],
   "source": [
    "import pandas as pd\n",
    "\n",
    "# Load DataFrame from CSV file\n",
    "file_path = r\"C:\\Users\\LENOVO\\AppData\\Roaming\\Microsoft\\Windows\\Start Menu\\Programs\\Anaconda3 (64-bit)\\Impact_of_Mobile_Phone_on_Students_Health.csv\"\n",
    "df = pd.read_csv(file_path)\n",
    "\n",
    "# Check for missing values\n",
    "missing_values = df.isnull().sum()\n",
    "print(\"Missing values per column:\")\n",
    "print(missing_values)\n"
   ]
  },
  {
   "cell_type": "code",
   "execution_count": 5,
   "id": "43b0caa5-7888-4f25-86af-8dc08568cc60",
   "metadata": {},
   "outputs": [],
   "source": [
    "# Drop rows with any missing values\n",
    "df_cleaned_rows = df.dropna()\n"
   ]
  },
  {
   "cell_type": "code",
   "execution_count": 6,
   "id": "c7390fb5-0248-4c36-a44e-06c00e2e35df",
   "metadata": {},
   "outputs": [],
   "source": [
    "# Drop columns with any missing values\n",
    "df_cleaned_cols = df.dropna(axis=1)\n"
   ]
  },
  {
   "cell_type": "code",
   "execution_count": 7,
   "id": "eb388833-075b-460d-a58b-2b2d6ffbd90e",
   "metadata": {},
   "outputs": [],
   "source": [
    "# Fill missing values with a specific value (e.g., 0)\n",
    "df_filled = df.fillna(value=0)\n"
   ]
  },
  {
   "cell_type": "code",
   "execution_count": 9,
   "id": "9d6f29db-1243-4410-8d29-8c3b037fddd6",
   "metadata": {},
   "outputs": [],
   "source": [
    "df_ffill = df.ffill()\n"
   ]
  },
  {
   "cell_type": "code",
   "execution_count": 10,
   "id": "5e6f2349-4796-4866-97d7-529d42fb62f4",
   "metadata": {},
   "outputs": [],
   "source": [
    "df_bfill = df.bfill()\n"
   ]
  },
  {
   "cell_type": "code",
   "execution_count": 11,
   "id": "429ad518-960c-4054-a51f-dfed7b5ae178",
   "metadata": {},
   "outputs": [
    {
     "name": "stdout",
     "output_type": "stream",
     "text": [
      "DataFrame after forward fill:\n",
      "      Names    Age Gender  Mobile Phone  Mobile Operating System   \\\n",
      "0       Ali  21-25    Male           Yes                  Android   \n",
      "1     Bilal  21-25    Male           Yes                  Android   \n",
      "2    Hammad  21-25    Male           Yes                      IOS   \n",
      "3  Abdullah  21-25    Male           Yes                  Android   \n",
      "4     Waqar  21-25    Male           Yes                      IOS   \n",
      "\n",
      "  Mobile phone use for education Mobile phone activities Helpful for studying  \\\n",
      "0                      Sometimes            Social Media                  Yes   \n",
      "1                      Sometimes            Social Media                  Yes   \n",
      "2                      Sometimes            All of these                  Yes   \n",
      "3                     Frequently            All of these                  Yes   \n",
      "4                     Frequently            All of these                  Yes   \n",
      "\n",
      "     Educational Apps Daily usages Performance impact      Usage distraction  \\\n",
      "0  Educational Videos    4-6 hours              Agree           During Exams   \n",
      "1  Educational Videos    4-6 hours            Neutral           During Exams   \n",
      "2  Educational Videos    4-6 hours     Strongly agree        Not Distracting   \n",
      "3  Educational Videos    2-4 hours     Strongly agree  During Class Lectures   \n",
      "4  Educational Videos    > 6 hours              Agree         While Studying   \n",
      "\n",
      "  Attention span   Useful features    Health Risks Beneficial subject  \\\n",
      "0            Yes            Camera             Yes         Accounting   \n",
      "1            Yes  Notes Taking App             Yes  Browsing Material   \n",
      "2             No            Camera             Yes  Browsing Material   \n",
      "3             No   Internet Access  Only Partially           Reasarch   \n",
      "4            Yes   Internet Access              No  Browsing Material   \n",
      "\n",
      "      Usage symptoms Symptom frequency                 Health precautions  \\\n",
      "0           Headache             Never            Using Blue light filter   \n",
      "1       All of these         Sometimes  Taking Break during prolonged use   \n",
      "2       All of these         Sometimes                      None of Above   \n",
      "3       All of these             Never               Limiting Screen Time   \n",
      "4  Sleep disturbance         Sometimes                      None of Above   \n",
      "\n",
      "  Health rating  \n",
      "0     Excellent  \n",
      "1          Good  \n",
      "2     Excellent  \n",
      "3     Excellent  \n",
      "4     Excellent  \n",
      "\n",
      "DataFrame after backward fill:\n",
      "      Names    Age Gender  Mobile Phone  Mobile Operating System   \\\n",
      "0       Ali  21-25    Male           Yes                  Android   \n",
      "1     Bilal  21-25    Male           Yes                  Android   \n",
      "2    Hammad  21-25    Male           Yes                      IOS   \n",
      "3  Abdullah  21-25    Male           Yes                  Android   \n",
      "4     Waqar  21-25    Male           Yes                      IOS   \n",
      "\n",
      "  Mobile phone use for education Mobile phone activities Helpful for studying  \\\n",
      "0                      Sometimes            Social Media                  Yes   \n",
      "1                      Sometimes            Social Media                  Yes   \n",
      "2                      Sometimes            All of these                  Yes   \n",
      "3                     Frequently            All of these                  Yes   \n",
      "4                     Frequently            All of these                  Yes   \n",
      "\n",
      "     Educational Apps Daily usages Performance impact      Usage distraction  \\\n",
      "0  Educational Videos    4-6 hours              Agree           During Exams   \n",
      "1  Educational Videos    4-6 hours            Neutral           During Exams   \n",
      "2  Educational Videos    4-6 hours     Strongly agree        Not Distracting   \n",
      "3  Educational Videos    2-4 hours     Strongly agree  During Class Lectures   \n",
      "4  Educational Videos    > 6 hours              Agree         While Studying   \n",
      "\n",
      "  Attention span   Useful features    Health Risks Beneficial subject  \\\n",
      "0            Yes            Camera             Yes         Accounting   \n",
      "1            Yes  Notes Taking App             Yes  Browsing Material   \n",
      "2             No            Camera             Yes  Browsing Material   \n",
      "3             No   Internet Access  Only Partially           Reasarch   \n",
      "4            Yes   Internet Access              No  Browsing Material   \n",
      "\n",
      "      Usage symptoms Symptom frequency                 Health precautions  \\\n",
      "0           Headache             Never            Using Blue light filter   \n",
      "1       All of these         Sometimes  Taking Break during prolonged use   \n",
      "2       All of these         Sometimes                      None of Above   \n",
      "3  Sleep disturbance             Never               Limiting Screen Time   \n",
      "4  Sleep disturbance         Sometimes                      None of Above   \n",
      "\n",
      "  Health rating  \n",
      "0     Excellent  \n",
      "1          Good  \n",
      "2     Excellent  \n",
      "3     Excellent  \n",
      "4     Excellent  \n"
     ]
    }
   ],
   "source": [
    "# Displaying results\n",
    "print(\"DataFrame after forward fill:\")\n",
    "print(df_ffill.head())\n",
    "\n",
    "print(\"\\nDataFrame after backward fill:\")\n",
    "print(df_bfill.head())"
   ]
  },
  {
   "cell_type": "code",
   "execution_count": 13,
   "id": "681784ac-7583-4e54-90ae-db74ceaa2c25",
   "metadata": {},
   "outputs": [
    {
     "name": "stdout",
     "output_type": "stream",
     "text": [
      "DataFrame after interpolation:\n",
      "      Names  Age Gender  Mobile Phone  Mobile Operating System   \\\n",
      "0       Ali  NaN    Male           Yes                  Android   \n",
      "1     Bilal  NaN    Male           Yes                  Android   \n",
      "2    Hammad  NaN    Male           Yes                      IOS   \n",
      "3  Abdullah  NaN    Male           Yes                  Android   \n",
      "4     Waqar  NaN    Male           Yes                      IOS   \n",
      "\n",
      "  Mobile phone use for education Mobile phone activities Helpful for studying  \\\n",
      "0                      Sometimes            Social Media                  Yes   \n",
      "1                      Sometimes            Social Media                  Yes   \n",
      "2                      Sometimes            All of these                  Yes   \n",
      "3                     Frequently            All of these                  Yes   \n",
      "4                     Frequently            All of these                  Yes   \n",
      "\n",
      "     Educational Apps  Daily usages  Performance impact  \\\n",
      "0  Educational Videos           NaN                 NaN   \n",
      "1  Educational Videos           NaN                 NaN   \n",
      "2  Educational Videos           NaN                 NaN   \n",
      "3  Educational Videos           NaN                 NaN   \n",
      "4  Educational Videos           NaN                 NaN   \n",
      "\n",
      "       Usage distraction Attention span   Useful features    Health Risks  \\\n",
      "0           During Exams            Yes            Camera             Yes   \n",
      "1           During Exams            Yes  Notes Taking App             Yes   \n",
      "2        Not Distracting             No            Camera             Yes   \n",
      "3  During Class Lectures             No   Internet Access  Only Partially   \n",
      "4         While Studying            Yes   Internet Access              No   \n",
      "\n",
      "  Beneficial subject     Usage symptoms Symptom frequency  \\\n",
      "0         Accounting           Headache             Never   \n",
      "1  Browsing Material       All of these         Sometimes   \n",
      "2  Browsing Material       All of these         Sometimes   \n",
      "3           Reasarch                NaN             Never   \n",
      "4  Browsing Material  Sleep disturbance         Sometimes   \n",
      "\n",
      "                  Health precautions Health rating  \n",
      "0            Using Blue light filter     Excellent  \n",
      "1  Taking Break during prolonged use          Good  \n",
      "2                      None of Above     Excellent  \n",
      "3               Limiting Screen Time     Excellent  \n",
      "4                      None of Above     Excellent  \n"
     ]
    },
    {
     "name": "stderr",
     "output_type": "stream",
     "text": [
      "C:\\Users\\LENOVO\\AppData\\Local\\Temp\\ipykernel_18312\\1415448185.py:6: FutureWarning: DataFrame.interpolate with object dtype is deprecated and will raise in a future version. Call obj.infer_objects(copy=False) before interpolating instead.\n",
      "  df_interpolated = df.interpolate()\n"
     ]
    }
   ],
   "source": [
    "# Convert relevant columns to numeric dtype\n",
    "numeric_columns = ['Age', 'Daily usages', 'Performance impact']  # Example numeric columns\n",
    "df[numeric_columns] = df[numeric_columns].apply(pd.to_numeric, errors='coerce')\n",
    "\n",
    "# Interpolate missing values in numeric columns\n",
    "df_interpolated = df.interpolate()\n",
    "\n",
    "# Displaying results\n",
    "print(\"DataFrame after interpolation:\")\n",
    "print(df_interpolated.head())"
   ]
  },
  {
   "cell_type": "code",
   "execution_count": 14,
   "id": "04cf4662-5d2c-4be9-ba1f-d58d5f84ecba",
   "metadata": {},
   "outputs": [],
   "source": [
    "\n",
    "# Convert 'Age' column to float\n",
    "df['Age'] = df['Age'].astype(float)\n"
   ]
  },
  {
   "cell_type": "code",
   "execution_count": 17,
   "id": "dec82306-e751-4ed2-ac20-82a09dbaf793",
   "metadata": {},
   "outputs": [
    {
     "name": "stdout",
     "output_type": "stream",
     "text": [
      "Duplicate rows:\n",
      "Empty DataFrame\n",
      "Columns: [Names, Age, Gender , Mobile Phone , Mobile Operating System , Mobile phone use for education, Mobile phone activities, Helpful for studying, Educational Apps, Daily usages, Performance impact, Usage distraction, Attention span, Useful features, Health Risks, Beneficial subject, Usage symptoms, Symptom frequency, Health precautions, Health rating, Age_normalized]\n",
      "Index: []\n",
      "\n",
      "[0 rows x 21 columns]\n"
     ]
    }
   ],
   "source": [
    "# Identify duplicate rows\n",
    "duplicate_rows = df[df.duplicated()]\n",
    "print(\"Duplicate rows:\")\n",
    "print(duplicate_rows)\n"
   ]
  },
  {
   "cell_type": "code",
   "execution_count": 18,
   "id": "e2c7eea4-b659-4d83-aed7-8aeab9aa5b9e",
   "metadata": {},
   "outputs": [],
   "source": [
    "# Drop duplicate rows\n",
    "df_unique = df.drop_duplicates()\n"
   ]
  },
  {
   "cell_type": "code",
   "execution_count": 19,
   "id": "9da55a67-15fc-4815-b176-039806f2144f",
   "metadata": {},
   "outputs": [],
   "source": [
    "# Convert 'Names' column values to lowercase\n",
    "df['Names'] = df['Names'].str.lower()\n"
   ]
  },
  {
   "cell_type": "code",
   "execution_count": 26,
   "id": "4016b087-eb2b-4a5f-bfee-90e380f23bbe",
   "metadata": {},
   "outputs": [
    {
     "name": "stdout",
     "output_type": "stream",
     "text": [
      "Index(['Names', 'Age', 'Gender ', 'Mobile Phone ', 'Mobile Operating System ',\n",
      "       'Mobile phone use for education', 'Mobile phone activities',\n",
      "       'Helpful for studying', 'Educational Apps', 'Daily usages',\n",
      "       'Performance impact', 'Usage distraction', 'Attention span',\n",
      "       'Useful features', 'Health Risks', 'Beneficial subject',\n",
      "       'Usage symptoms', 'Symptom frequency', 'Health precautions',\n",
      "       'Health rating', 'Age_normalized', 'Age_group'],\n",
      "      dtype='object')\n"
     ]
    }
   ],
   "source": [
    "print(df.columns)\n"
   ]
  },
  {
   "cell_type": "code",
   "execution_count": 31,
   "id": "727b3d5d-7a40-423c-bf7c-919d239be861",
   "metadata": {},
   "outputs": [
    {
     "name": "stdout",
     "output_type": "stream",
     "text": [
      "Filtered DataFrame based on age range:\n",
      "Empty DataFrame\n",
      "Columns: [Names, Age, Gender , Mobile Phone , Mobile Operating System , Mobile phone use for education, Mobile phone activities, Helpful for studying, Educational Apps, Daily usages, Performance impact, Usage distraction, Attention span, Useful features, Health Risks, Beneficial subject, Usage symptoms, Symptom frequency, Health precautions, Health rating, Age_normalized, Age_group]\n",
      "Index: []\n",
      "\n",
      "[0 rows x 22 columns]\n"
     ]
    }
   ],
   "source": [
    "# Filter rows based on age range \n",
    "df_filtered_age = df[(df['Age'] >= 21) & (df['Age'] <= 25)]   \n",
    "print(\"Filtered DataFrame based on age range:\")\n",
    "print(df_filtered_age.head())\n"
   ]
  },
  {
   "cell_type": "code",
   "execution_count": 34,
   "id": "51e149ed-ca1c-4934-8caa-da0fbb68dd05",
   "metadata": {},
   "outputs": [
    {
     "name": "stdout",
     "output_type": "stream",
     "text": [
      "Encoded 'Health Risks' column:\n",
      "     Health Risks  Health Risks_encoded\n",
      "0             Yes                     2\n",
      "1             Yes                     2\n",
      "2             Yes                     2\n",
      "3  Only Partially                     1\n",
      "4              No                     0\n"
     ]
    }
   ],
   "source": [
    "from sklearn.preprocessing import LabelEncoder\n",
    "\n",
    " #Label encoding for 'Health Risks' column\n",
    "encoder = LabelEncoder()\n",
    "df['Health Risks_encoded'] = encoder.fit_transform(df['Health Risks'])\n",
    "print(\"Encoded 'Health Risks' column:\")\n",
    "print(df[['Health Risks', 'Health Risks_encoded']].head())\n"
   ]
  },
  {
   "cell_type": "code",
   "execution_count": 36,
   "id": "7a08d686-47eb-4f47-b33b-94a55c06c670",
   "metadata": {},
   "outputs": [
    {
     "name": "stdout",
     "output_type": "stream",
     "text": [
      "DataFrame with 'Age_group' column:\n",
      "   Age Age_group\n",
      "0  NaN       NaN\n",
      "1  NaN       NaN\n",
      "2  NaN       NaN\n",
      "3  NaN       NaN\n",
      "4  NaN       NaN\n"
     ]
    }
   ],
   "source": [
    "#  Grouping 'Age' into categories\n",
    "bins = [0, 12, 19, 59, df['Age'].max()]\n",
    "labels = ['Child', 'Teen', 'Adult', 'Senior']\n",
    "df['Age_group'] = pd.cut(df['Age'], bins=bins, labels=labels, right=False)\n",
    "print(\"DataFrame with 'Age_group' column:\")\n",
    "print(df[['Age', 'Age_group']].head())\n"
   ]
  },
  {
   "cell_type": "code",
   "execution_count": 40,
   "id": "d6bd4c97-9753-48c9-9426-d16f454d502a",
   "metadata": {},
   "outputs": [
    {
     "name": "stdout",
     "output_type": "stream",
     "text": [
      "DataFrame with 'Total_usage' column:\n",
      "   Daily usages      Usage distraction Total_usage\n",
      "0           NaN           During Exams         NaN\n",
      "1           NaN           During Exams         NaN\n",
      "2           NaN        Not Distracting         NaN\n",
      "3           NaN  During Class Lectures         NaN\n",
      "4           NaN         While Studying         NaN\n"
     ]
    }
   ],
   "source": [
    " Creating a new column 'Total_usage' based on 'Daily usages' and 'Usage distraction'\n",
    "df['Total_usage'] = df['Daily usages'] - df['Usage distraction']\n",
    "print(\"DataFrame with 'Total_usage' column:\")\n",
    "print(df[['Daily usages', 'Usage distraction', 'Total_usage']].head())\n"
   ]
  },
  {
   "cell_type": "code",
   "execution_count": null,
   "id": "0b18bab1-e0ac-4b16-9140-e19b8912b0d3",
   "metadata": {},
   "outputs": [],
   "source": []
  }
 ],
 "metadata": {
  "kernelspec": {
   "display_name": "Python 3 (ipykernel)",
   "language": "python",
   "name": "python3"
  },
  "language_info": {
   "codemirror_mode": {
    "name": "ipython",
    "version": 3
   },
   "file_extension": ".py",
   "mimetype": "text/x-python",
   "name": "python",
   "nbconvert_exporter": "python",
   "pygments_lexer": "ipython3",
   "version": "3.11.7"
  }
 },
 "nbformat": 4,
 "nbformat_minor": 5
}
